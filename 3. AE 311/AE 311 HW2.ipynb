{
 "cells": [
  {
   "cell_type": "code",
   "execution_count": 1,
   "metadata": {},
   "outputs": [
    {
     "data": {
      "image/png": "[encoded data removed]",
      "text/plain": [
       "<Figure size 432x288 with 2 Axes>"
      ]
     },
     "metadata": {
      "needs_background": "light"
     },
     "output_type": "display_data"
    }
   ],
   "source": [
    "import pandas as pd\n",
    "import matplotlib.pyplot as plt\n",
    "import random\n",
    "import numpy as np\n",
    "import math as m\n",
    "import numpy.linalg as la\n",
    "import scipy.linalg as sla\n",
    "\n",
    "#9\n",
    "\n",
    "#prob 6\n",
    "x = np.linspace(-10,10,200)\n",
    "y = np.linspace(-15,15,200)\n",
    "\n",
    "X, Y = np.meshgrid(x, y)\n",
    "Z = 10 * Y + 5\n",
    "plt.contourf(X, Y, Z)\n",
    "plt.colorbar()\n",
    "plt.title('Analytical soln to Divergence of P')\n",
    "plt.xlabel('x')\n",
    "plt.ylabel('y')\n",
    "plt.show()\n",
    "\n"
   ]
  },
  {
   "cell_type": "code",
   "execution_count": 2,
   "metadata": {},
   "outputs": [
    {
     "data": {
      "image/png": "[encoded data removed]",
      "text/plain": [
       "<Figure size 432x288 with 2 Axes>"
      ]
     },
     "metadata": {
      "needs_background": "light"
     },
     "output_type": "display_data"
    }
   ],
   "source": [
    "# Problem 9 (Numerical)\n",
    "step = 0.005\n",
    "x = np.linspace(-10, 10, 200)\n",
    "y = np.linspace(-15, 15, 200)\n",
    "z = np.linspace(-15, 15, 200)\n",
    "X, Y = np.meshgrid(x, y)\n",
    "u = 2 * X * Y\n",
    "v = 4 * Y ** 2\n",
    "w = 5 * z\n",
    "\n",
    "u_prime = 2 * (X + step) * (Y + step)\n",
    "v_prime = 4 * (Y + step) ** 2\n",
    "w_prime = 5 * (z + step)\n",
    "dudx = (u_prime - u) / step\n",
    "dvdy = (v_prime - v) / step\n",
    "dwdz = (w_prime - w) / step\n",
    "Div_N = dudx + dvdy + dwdz\n",
    "\n",
    "plt.contourf(X, Y, Div_N)\n",
    "plt.colorbar()\n",
    "plt.title('Scalar Field P (Numerical)')\n",
    "plt.xlabel('x')\n",
    "plt.ylabel('y')\n",
    "plt.show()\n"
   ]
  },
  {
   "cell_type": "code",
   "execution_count": 3,
   "metadata": {},
   "outputs": [
    {
     "data": {
      "image/png": "[encoded data removed]",
      "text/plain": [
       "<Figure size 432x288 with 2 Axes>"
      ]
     },
     "metadata": {
      "needs_background": "light"
     },
     "output_type": "display_data"
    }
   ],
   "source": [
    "import numpy as np\n",
    "import matplotlib.pyplot as plt\n",
    "\n",
    "x = np.linspace(-10,10,20)\n",
    "y = np.linspace(-15,15,20)\n",
    "z = np.linspace(-10,10,20)\n",
    "X,Y,Z = np.meshgrid(x,y,z)\n",
    "\n",
    "\n",
    "i = 2 * X * Y\n",
    "j = 4 * Y ** 2\n",
    "k = 5 * Z\n",
    "\n",
    "dx = x[1]-x[0]\n",
    "dy = y[1]-y[0]\n",
    "dz = z[1]-z[0]\n",
    "\n",
    "gradx = np.gradient(i,dx,axis=1)\n",
    "grady = np.gradient(j,dy,axis=0)\n",
    "gradz = np.gradient(k,dz,axis=2)\n",
    "\n",
    "divNum = gradx+grady+gradz\n",
    "divNum = divNum[:,:,0]\n",
    "\n",
    "X,Y = np.meshgrid(x,y)\n",
    "\n",
    "plt.contourf(X,Y,divNum)\n",
    "plt.colorbar()\n",
    "plt.title('Numerical Soln to Divergence')\n",
    "plt.xlabel('x')\n",
    "plt.ylabel('y')\n",
    "plt.show()\n"
   ]
  },
  {
   "cell_type": "code",
   "execution_count": 4,
   "metadata": {},
   "outputs": [
    {
     "ename": "NameError",
     "evalue": "name 'div' is not defined",
     "output_type": "error",
     "traceback": [
      "\u001b[1;31m---------------------------------------------------------------------------\u001b[0m",
      "\u001b[1;31mNameError\u001b[0m                                 Traceback (most recent call last)",
      "\u001b[1;32m<ipython-input-4-4c98487ff8dd>\u001b[0m in \u001b[0;36m<module>\u001b[1;34m\u001b[0m\n\u001b[0;32m      3\u001b[0m \u001b[0mdiv_num\u001b[0m \u001b[1;33m=\u001b[0m \u001b[1;36m10\u001b[0m\u001b[1;33m*\u001b[0m\u001b[0mY\u001b[0m\u001b[1;33m+\u001b[0m\u001b[1;36m5\u001b[0m\u001b[1;33m\u001b[0m\u001b[1;33m\u001b[0m\u001b[0m\n\u001b[0;32m      4\u001b[0m \u001b[1;33m\u001b[0m\u001b[0m\n\u001b[1;32m----> 5\u001b[1;33m \u001b[0mprint\u001b[0m\u001b[1;33m(\u001b[0m\u001b[0mdiv_num\u001b[0m\u001b[1;33m-\u001b[0m\u001b[0mdiv\u001b[0m\u001b[1;33m)\u001b[0m\u001b[1;33m\u001b[0m\u001b[1;33m\u001b[0m\u001b[0m\n\u001b[0m\u001b[0;32m      6\u001b[0m \u001b[1;33m\u001b[0m\u001b[0m\n",
      "\u001b[1;31mNameError\u001b[0m: name 'div' is not defined"
     ]
    }
   ],
   "source": [
    "#analytical solution:\n",
    "\n",
    "div_num = 10*Y+5\n",
    "\n",
    "print(div_num-div)\n",
    "\n"
   ]
  },
  {
   "cell_type": "code",
   "execution_count": null,
   "metadata": {},
   "outputs": [],
   "source": [
    "import numpy as np\n",
    "import matplotlib.pyplot as plt\n",
    "\n",
    "x = np.linspace(-10,10,200)\n",
    "y = np.linspace(-15,15,200)\n",
    "z = np.linspace(-10,10,200)\n",
    "X,Y,Z = np.meshgrid(x,y,z)\n",
    "\n",
    "\n",
    "i = 2 * X * Y\n",
    "j = 4 * Y ** 2\n",
    "k = 5 * Z\n",
    "\n",
    "dx = x[1]-x[0]\n",
    "dy = y[1]-y[0]\n",
    "dz = z[1]-z[0]\n",
    "\n",
    "gradx = np.gradient(i,dx,axis=1)\n",
    "grady = np.gradient(j,dy,axis=0)\n",
    "gradz = np.gradient(k,dz,axis=2)\n",
    "\n",
    "divNum = gradx+grady+gradz\n",
    "divNum = divNum[:,:,0]\n",
    "\n",
    "X,Y = np.meshgrid(x,y)\n",
    "\n",
    "plt.contourf(X,Y,divNum)\n",
    "plt.colorbar()\n",
    "plt.title('Numerical Soln to Divergence')\n",
    "plt.xlabel('x')\n",
    "plt.ylabel('y')\n",
    "plt.show()"
   ]
  },
  {
   "cell_type": "code",
   "execution_count": null,
   "metadata": {},
   "outputs": [],
   "source": [
    "#analytical solution:\n",
    "\n",
    "div = 10*Y+5\n",
    "\n",
    "print(divNum-div)\n",
    "\n",
    "X,Y = np.meshgrid(x,y)\n",
    "\n",
    "plt.contourf(X,Y,divNum-div)\n",
    "plt.colorbar()\n",
    "plt.title('Difference between Numerical and Analytical')\n",
    "plt.xlabel('x')\n",
    "plt.ylabel('y')\n",
    "plt.show()"
   ]
  },
  {
   "cell_type": "code",
   "execution_count": 10,
   "metadata": {},
   "outputs": [
    {
     "ename": "IndexError",
     "evalue": "list assignment index out of range",
     "output_type": "error",
     "traceback": [
      "\u001b[1;31m---------------------------------------------------------------------------\u001b[0m",
      "\u001b[1;31mIndexError\u001b[0m                                Traceback (most recent call last)",
      "\u001b[1;32m<ipython-input-10-cc5006c41735>\u001b[0m in \u001b[0;36m<module>\u001b[1;34m\u001b[0m\n\u001b[0;32m      7\u001b[0m \u001b[0mP\u001b[0m \u001b[1;33m=\u001b[0m \u001b[1;36m2\u001b[0m\u001b[1;33m*\u001b[0m\u001b[0my\u001b[0m\u001b[1;33m*\u001b[0m\u001b[0mx\u001b[0m\u001b[1;33m**\u001b[0m\u001b[1;36m2\u001b[0m\u001b[1;33m\u001b[0m\u001b[1;33m\u001b[0m\u001b[0m\n\u001b[0;32m      8\u001b[0m \u001b[1;33m\u001b[0m\u001b[0m\n\u001b[1;32m----> 9\u001b[1;33m \u001b[0mnp\u001b[0m\u001b[1;33m.\u001b[0m\u001b[0mtrapz\u001b[0m\u001b[1;33m(\u001b[0m\u001b[0mnp\u001b[0m\u001b[1;33m.\u001b[0m\u001b[0mtrapz\u001b[0m\u001b[1;33m(\u001b[0m\u001b[0mP\u001b[0m\u001b[1;33m,\u001b[0m\u001b[0mx\u001b[0m\u001b[1;33m)\u001b[0m\u001b[1;33m,\u001b[0m\u001b[0my\u001b[0m\u001b[1;33m)\u001b[0m\u001b[1;33m\u001b[0m\u001b[1;33m\u001b[0m\u001b[0m\n\u001b[0m",
      "\u001b[1;32m<__array_function__ internals>\u001b[0m in \u001b[0;36mtrapz\u001b[1;34m(*args, **kwargs)\u001b[0m\n",
      "\u001b[1;32mF:\\3.Coding\\Python\\lib\\site-packages\\numpy\\lib\\function_base.py\u001b[0m in \u001b[0;36mtrapz\u001b[1;34m(y, x, dx, axis)\u001b[0m\n\u001b[0;32m   4050\u001b[0m             \u001b[1;31m# reshape to correct shape\u001b[0m\u001b[1;33m\u001b[0m\u001b[1;33m\u001b[0m\u001b[1;33m\u001b[0m\u001b[0m\n\u001b[0;32m   4051\u001b[0m             \u001b[0mshape\u001b[0m \u001b[1;33m=\u001b[0m \u001b[1;33m[\u001b[0m\u001b[1;36m1\u001b[0m\u001b[1;33m]\u001b[0m\u001b[1;33m*\u001b[0m\u001b[0my\u001b[0m\u001b[1;33m.\u001b[0m\u001b[0mndim\u001b[0m\u001b[1;33m\u001b[0m\u001b[1;33m\u001b[0m\u001b[0m\n\u001b[1;32m-> 4052\u001b[1;33m             \u001b[0mshape\u001b[0m\u001b[1;33m[\u001b[0m\u001b[0maxis\u001b[0m\u001b[1;33m]\u001b[0m \u001b[1;33m=\u001b[0m \u001b[0md\u001b[0m\u001b[1;33m.\u001b[0m\u001b[0mshape\u001b[0m\u001b[1;33m[\u001b[0m\u001b[1;36m0\u001b[0m\u001b[1;33m]\u001b[0m\u001b[1;33m\u001b[0m\u001b[1;33m\u001b[0m\u001b[0m\n\u001b[0m\u001b[0;32m   4053\u001b[0m             \u001b[0md\u001b[0m \u001b[1;33m=\u001b[0m \u001b[0md\u001b[0m\u001b[1;33m.\u001b[0m\u001b[0mreshape\u001b[0m\u001b[1;33m(\u001b[0m\u001b[0mshape\u001b[0m\u001b[1;33m)\u001b[0m\u001b[1;33m\u001b[0m\u001b[1;33m\u001b[0m\u001b[0m\n\u001b[0;32m   4054\u001b[0m         \u001b[1;32melse\u001b[0m\u001b[1;33m:\u001b[0m\u001b[1;33m\u001b[0m\u001b[1;33m\u001b[0m\u001b[0m\n",
      "\u001b[1;31mIndexError\u001b[0m: list assignment index out of range"
     ]
    }
   ],
   "source": [
    "# Problem 10\n",
    "import numpy as np\n",
    "\n",
    "x = np.linspace(-10,10,100)\n",
    "y = np.linspace(-15,15,100)\n",
    "\n",
    "X,Y = np.meshgrid(x,y)\n",
    "P = 2*Y*X**2\n",
    "\n",
    "np.trapz(np.trapz(P,x),y)"
   ]
  },
  {
   "cell_type": "code",
   "execution_count": null,
   "metadata": {},
   "outputs": [],
   "source": [
    "-2.9103830456733704e-11"
   ]
  }
 ],
 "metadata": {
  "kernelspec": {
   "display_name": "Python 3",
   "language": "python",
   "name": "python3"
  },
  "language_info": {
   "codemirror_mode": {
    "name": "ipython",
    "version": 3
   },
   "file_extension": ".py",
   "mimetype": "text/x-python",
   "name": "python",
   "nbconvert_exporter": "python",
   "pygments_lexer": "ipython3",
   "version": "3.8.3"
  }
 },
 "nbformat": 4,
 "nbformat_minor": 4
}
