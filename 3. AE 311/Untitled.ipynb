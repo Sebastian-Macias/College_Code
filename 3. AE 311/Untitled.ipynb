{
 "cells": [
  {
   "cell_type": "code",
   "execution_count": null,
   "metadata": {},
   "outputs": [],
   "source": [
    "import pandas as pd\n",
    "import matplotlib.pyplot as plt\n",
    "import random\n",
    "import numpy as np\n",
    "import math as m\n",
    "import numpy.linalg as la\n",
    "import scipy.linalg as sla\n",
    "\n",
    "#7\n",
    "x = np.linspace(-10,10,10)\n",
    "y = np.linspace(-10,10,10)\n",
    "\n",
    "X, Y = np.meshgrid(x, y)\n",
    "\n",
    "wx = X*Y\n",
    "wy = X**2\n",
    "w = [wx,wy]\n",
    "\n",
    "#plt.quiver(X, Y, w)\n",
    "plt.contourf(X,Y,w)\n",
    "plt.xlabel('x axis')\n",
    "plt.ylabel('y axis')\n",
    "plt.title('P(x,y)')\n",
    "plt.show()\n",
    "\n",
    "\n"
   ]
  },
  {
   "cell_type": "code",
   "execution_count": null,
   "metadata": {},
   "outputs": [],
   "source": []
  }
 ],
 "metadata": {
  "kernelspec": {
   "display_name": "Python 3",
   "language": "python",
   "name": "python3"
  }
 },
 "nbformat": 4,
 "nbformat_minor": 4
}
