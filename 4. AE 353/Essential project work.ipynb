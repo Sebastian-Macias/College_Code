{
 "cells": [
  {
   "cell_type": "code",
   "execution_count": 1,
   "metadata": {},
   "outputs": [
    {
     "name": "stdout",
     "output_type": "stream",
     "text": [
      "[[ -2.   0.]\n",
      " [  1. -10.]]\n"
     ]
    },
    {
     "data": {
      "text/plain": [
       "dtype('float64')"
      ]
     },
     "execution_count": 1,
     "metadata": {},
     "output_type": "execute_result"
    }
   ],
   "source": [
    "import numpy as np\n",
    "A = np.array([[-2.,0.],[1.,-10.]])\n",
    "print(A)\n",
    "A.dtype"
   ]
  },
  {
   "cell_type": "code",
   "execution_count": 2,
   "metadata": {},
   "outputs": [
    {
     "name": "stdout",
     "output_type": "stream",
     "text": [
      "[[ 0.0000000e+00  1.0000000e+00]\n",
      " [-2.4492936e-16  0.0000000e+00]]\n",
      "[[0.]\n",
      " [3.]]\n",
      "[[0.0, 1.0], [-2.4492935982947064e-16, 0.0]]\n",
      "[[0.0], [3.0]]\n"
     ]
    }
   ],
   "source": [
    "#HW 3 essential code\n",
    "\n",
    "import numpy as np\n",
    "import sympy as sym\n",
    "\n",
    "q, v, tau = sym.symbols('q, v, tau')\n",
    "\n",
    "f = sym.Matrix([[v], [2 * sym.cos(q) + 3*tau]]) #bracket form is [q,v] --> [qdot,vdot]\n",
    "\n",
    "q_e = np.pi\n",
    "v_e = 0.\n",
    "tau_e = 2./3.\n",
    "\n",
    "\n",
    "f_num = sym.lambdify((q, v, tau), f)\n",
    "f_num(q_e, v_e, tau_e)\n",
    "f.jacobian([q, v])\n",
    "\n",
    "# Create lambda function\n",
    "A_num = sym.lambdify((q, v, tau), f.jacobian([q, v]))\n",
    "\n",
    "# Evaluate lambda function at equilibrium point\n",
    "A = A_num(q_e, v_e, tau_e)\n",
    "\n",
    "# Suppress the use of scientific notation when printing small numbers\n",
    "#np.set_printoptions(suppress=True)\n",
    "\n",
    "# Create lambda functions\n",
    "B_num = sym.lambdify((q, v, tau), f.jacobian([tau]))\n",
    "\n",
    "# Evaluate lambda function at equilibrium point\n",
    "B = B_num(q_e, v_e, tau_e)\n",
    "\n",
    "\n",
    "# Make sure A and B have floating-point numbers inside\n",
    "A = A.astype(float)\n",
    "B = B.astype(float)\n",
    "\n",
    "# Print the resulting values\n",
    "print(A)\n",
    "print(B)\n",
    "\n",
    "print(A.tolist())\n",
    "print(B.tolist())\n"
   ]
  },
  {
   "cell_type": "code",
   "execution_count": 3,
   "metadata": {},
   "outputs": [
    {
     "name": "stdout",
     "output_type": "stream",
     "text": [
      "[[-0.8, -14.0], [1.0, 0.0]]\n",
      "[[0.2], [0.0]]\n"
     ]
    }
   ],
   "source": [
    "import numpy as np\n",
    "import sympy as sym\n",
    "\n",
    "g, m, r = sym.symbols('g, m, r')\n",
    "\n",
    "f = sym.Matrix([[(r/5)-(4*g/5)-(2*m)-(m**3)], [g]]) #bracket form is [q,v] --> [qdot,vdot]\n",
    "\n",
    "g_e = 0.\n",
    "m_e = 2.\n",
    "r_e = 60.\n",
    "\n",
    "\n",
    "f_num = sym.lambdify((g, m, r), f)\n",
    "f_num(g_e, m_e, r_e)\n",
    "f.jacobian([g, m])\n",
    "\n",
    "# Create lambda function\n",
    "A_num = sym.lambdify((g, m, r), f.jacobian([g, m]))\n",
    "\n",
    "# Evaluate lambda function at equilibrium point\n",
    "A = A_num(g_e, m_e, r_e)\n",
    "\n",
    "# Suppress the use of scientific notation when printing small numbers\n",
    "#np.set_printoptions(suppress=True)\n",
    "\n",
    "# Create lambda functions\n",
    "B_num = sym.lambdify((g, m, r), f.jacobian([r]))\n",
    "\n",
    "# Evaluate lambda function at equilibrium point\n",
    "B = B_num(g_e, m_e, r_e)\n",
    "\n",
    "\n",
    "# Make sure A and B have floating-point numbers inside\n",
    "A = A.astype(float)\n",
    "B = B.astype(float)\n",
    "\n",
    "# Print the resulting values\n",
    "#print(A)\n",
    "#print(B)\n",
    "\n",
    "print(A.tolist())\n",
    "print(B.tolist())\n"
   ]
  },
  {
   "cell_type": "code",
   "execution_count": 4,
   "metadata": {},
   "outputs": [
    {
     "ename": "NameError",
     "evalue": "name 'F' is not defined",
     "output_type": "error",
     "traceback": [
      "\u001b[1;31m---------------------------------------------------------------------------\u001b[0m",
      "\u001b[1;31mNameError\u001b[0m                                 Traceback (most recent call last)",
      "\u001b[1;32m<ipython-input-4-3f2e2efa7fd7>\u001b[0m in \u001b[0;36m<module>\u001b[1;34m\u001b[0m\n\u001b[0;32m     16\u001b[0m \u001b[1;31m#x = e^ft * x0\u001b[0m\u001b[1;33m\u001b[0m\u001b[1;33m\u001b[0m\u001b[1;33m\u001b[0m\u001b[0m\n\u001b[0;32m     17\u001b[0m \u001b[1;33m\u001b[0m\u001b[0m\n\u001b[1;32m---> 18\u001b[1;33m \u001b[0mx\u001b[0m \u001b[1;33m=\u001b[0m \u001b[0mlinalg\u001b[0m\u001b[1;33m.\u001b[0m\u001b[0mexpm\u001b[0m\u001b[1;33m(\u001b[0m\u001b[0mF\u001b[0m\u001b[1;33m*\u001b[0m\u001b[0mt\u001b[0m\u001b[1;33m)\u001b[0m\u001b[1;33m*\u001b[0m\u001b[0mx0\u001b[0m\u001b[1;33m\u001b[0m\u001b[1;33m\u001b[0m\u001b[0m\n\u001b[0m\u001b[0;32m     19\u001b[0m \u001b[0mprint\u001b[0m\u001b[1;33m(\u001b[0m\u001b[0mx\u001b[0m\u001b[1;33m)\u001b[0m\u001b[1;33m\u001b[0m\u001b[1;33m\u001b[0m\u001b[0m\n\u001b[0;32m     20\u001b[0m \u001b[1;33m\u001b[0m\u001b[0m\n",
      "\u001b[1;31mNameError\u001b[0m: name 'F' is not defined"
     ]
    }
   ],
   "source": [
    "import numpy as np\n",
    "\n",
    "L = np.array([[0., 1.], [-3., 2.]])\n",
    "M = np.array([[2., 0.], [-1., 1.]])\n",
    "N = np.array([[-1.], [4.]])\n",
    "\n",
    "L + M\n",
    "L - M\n",
    "\n",
    "M.T #transpose\n",
    "M @ N #matrix math\n",
    "\n",
    "from scipy import linalg\n",
    "linalg.expm(M)\n",
    "\n",
    "#x = e^ft * x0\n",
    "\n",
    "x = linalg.expm(F*t)*x0\n",
    "print(x)\n",
    "\n"
   ]
  },
  {
   "cell_type": "code",
   "execution_count": null,
   "metadata": {},
   "outputs": [],
   "source": [
    "L = sym.nsimplify(L, rational=True)\n",
    "M = sym.nsimplify(M, rational=True)\n",
    "N = sym.nsimplify(N, rational=True) #simplifying float numbers\n",
    "\n"
   ]
  },
  {
   "cell_type": "code",
   "execution_count": null,
   "metadata": {},
   "outputs": [],
   "source": [
    "import math as m\n",
    "import numpy as np\n",
    "import sympy as sym\n",
    "# Description of system and initial condition (do not change)\n",
    "F = np.array([[0, 1], [4, 3]])\n",
    "x0 = np.array([[-1], [2]])\n",
    "\n",
    "# Convert F and x0 to SymPy matrices with rational elements\n",
    "F = sym.Matrix(F)\n",
    "#F = sym.nsimplify(F, rational=True)\n",
    "x0 = sym.Matrix(x0)\n",
    "#x0 = sym.nsimplify(x0, rational=True)\n",
    "\n",
    "# Create a symbol to represent time\n",
    "t = sym.symbols('t')\n",
    "\n",
    "# Compute solution as a function of time (symbolic)\n",
    "x_sym = sym.exp(F * t).simplify()*x0\n",
    "\n",
    "print(x_sym)"
   ]
  },
  {
   "cell_type": "code",
   "execution_count": null,
   "metadata": {},
   "outputs": [],
   "source": [
    "#hw 4.2\n",
    "import numpy as np\n",
    "\n",
    "A = np.array([[ 8,  8,  8], [ 5, -7, -9], [-6,  4,  0]])\n",
    "B = np.array([[ 2,  1], [ 8, -1], [ 5,  4]])\n",
    "C = np.array([[1, 2, 6]])\n",
    "D = np.array([[0, 0]])\n",
    "K = np.array([[-2, -8, -5], [-4, -2, -3]])\n",
    "\n",
    "A = sym.Matrix(A)\n",
    "B = sym.Matrix(B)\n",
    "C = sym.Matrix(C)\n",
    "D = sym.Matrix(D)\n",
    "K = sym.Matrix(K)\n",
    "\n",
    "F = A-B@K\n",
    "print(F)\n",
    "\n",
    "G = C-D@K\n",
    "print(G)"
   ]
  },
  {
   "cell_type": "code",
   "execution_count": null,
   "metadata": {},
   "outputs": [],
   "source": [
    "#HW 4.3\n",
    "import numpy as np\n",
    "\n",
    "A = np.array([[-0.7, -0.3], [-0.8, -0.6]])\n",
    "B = np.array([[-0.2], [-0.3]])\n",
    "C = np.array([[-0.2, 0.8]])\n",
    "D = np.array([[0.0]])\n",
    "K = np.array([[0.3, -0.9]])\n",
    "t0 = 0.9\n",
    "x0 = np.array([[-0.6], [-0.3]])\n",
    "t1 = 1.0\n",
    "\n",
    "A = sym.Matrix(A)\n",
    "B = sym.Matrix(B)\n",
    "C = sym.Matrix(C)\n",
    "D = sym.Matrix(D)\n",
    "K = sym.Matrix(K)\n",
    "x0 = sym.Matrix(x0)\n",
    "\n",
    "F = A-B@K\n",
    "#print(F)\n",
    "\n",
    "def x(t):\n",
    "    return sym.exp(F * (t-t0)).simplify()@x0\n",
    "print(x(t1))\n",
    "\n",
    "def y(t):\n",
    "    return C@sym.exp(F * (t-t0)).simplify()@x0\n",
    "\n",
    "print(y(t1))"
   ]
  },
  {
   "cell_type": "code",
   "execution_count": null,
   "metadata": {},
   "outputs": [],
   "source": [
    "#HW 4.4\n",
    "import math as m\n",
    "import numpy as np\n",
    "import sympy as sym\n",
    "\n",
    "\n",
    "A = np.array([[ 0,  1], [ 4, 10]])\n",
    "B = np.array([[0], [1]])\n",
    "C = np.array([[0, 1]])\n",
    "D = np.array([[0]])\n",
    "K = np.array([[24, 18]])\n",
    "x0 = np.array([[1], [0]])\n",
    "\n",
    "A = sym.Matrix(A)\n",
    "B = sym.Matrix(B)\n",
    "C = sym.Matrix(C)\n",
    "D = sym.Matrix(D)\n",
    "K = sym.Matrix(K)\n",
    "x0 = sym.Matrix(x0)\n",
    "\n",
    "F = A-B@K\n",
    "#print(F)\n",
    "t = sym.symbols('t')\n",
    "\n",
    "x = sym.exp(F*t)@x0\n",
    "u = -K@x\n",
    "\n",
    "y = C@x+D@u\n",
    "y,\n",
    "print(y)"
   ]
  },
  {
   "cell_type": "code",
   "execution_count": null,
   "metadata": {},
   "outputs": [],
   "source": [
    "#HW4.5\n",
    "import numpy as np\n",
    "\n",
    "W = np.array([[-0.6, 0.7, 0.0, 0.7], [0.7, 0.0, -0.4, -0.8], [-0.4, 0.3, -0.1, -0.1], [0.3, -0.7, -0.6, 0.0]])\n",
    "\n",
    "from mpmath import nsum, exp, inf\n",
    "nsum(lambda x: (1/m.factorial(k)), [-inf, inf])\n",
    "mpf('1.7726372048266521')"
   ]
  },
  {
   "cell_type": "code",
   "execution_count": null,
   "metadata": {},
   "outputs": [],
   "source": [
    "#HW 4.6\n",
    "\n",
    "import numpy as np\n",
    "\n",
    "A = np.array([[0.90000000, 0.30000000, -0.90000000], [0.90000000, 0.70000000, -0.40000000], [-0.50000000, 0.50000000, 0.00000000]])\n",
    "M = np.array([[1.34812925, 0.09137121, -0.31871547], [0.35641466, 1.23677254, -0.17758059], [-0.14963047, 0.16024996, 1.01082967]])\n",
    "\n",
    "A = sym.Matrix(A)\n",
    "M = sym.Matrix(M)\n",
    "\n"
   ]
  },
  {
   "cell_type": "code",
   "execution_count": null,
   "metadata": {},
   "outputs": [],
   "source": [
    "#HW 5 EIGEN PRACTICE\n",
    "import numpy as np\n",
    "from scipy import linalg\n",
    "\n",
    "A = np.array([[0., 1.], [0., 0.]])\n",
    "B = np.array([[0.], [1.]])\n",
    "K = np.array([[29., 10.]])\n",
    "\n",
    "# Description of closed-loop system (2D numpy array)\n",
    "F = A - B@K\n",
    "\n",
    "# Eigenvalues of closed-loop system (1D numpy array)\n",
    "s = linalg.eigvals(F)\n",
    "print(s)\n",
    "print((s.real < 0).all())"
   ]
  },
  {
   "cell_type": "code",
   "execution_count": null,
   "metadata": {},
   "outputs": [],
   "source": [
    "#HW 5.1\n",
    "\n",
    "import numpy as np\n",
    "\n",
    "A = np.array([[-0.9, 0.8, 0.5], [0.6, -0.7, -0.9], [-0.3, 0.7, -0.8]])\n",
    "B = np.array([[0.1], [-0.6], [-0.5]])\n",
    "C = np.array([[0.1, -0.6, -0.9]])\n",
    "D = np.array([[0.0]])\n",
    "K1 = np.array([[-3557.5, -2784.3, 2578.4]])\n",
    "K2 = np.array([[-70.0, -43.5, 18.4]])\n",
    "K3 = np.array([[-3.7, 79.7, -63.6]])\n",
    "K4 = np.array([[-320.5, -232.3, 236.1]])\n",
    "K5 = np.array([[-2767.9, -2218.4, 2078.9]])\n",
    "\n",
    "# Description of closed-loop system (2D numpy array)\n",
    "F1 = A - B@K1\n",
    "F2 = A - B@K2\n",
    "F3 = A - B@K3\n",
    "F4 = A - B@K4\n",
    "F5 = A - B@K5\n",
    "# Eigenvalues of closed-loop system (1D numpy array)\n",
    "s1 = linalg.eigvals(F1)\n",
    "s2 = linalg.eigvals(F2)\n",
    "s3 = linalg.eigvals(F3)\n",
    "s4 = linalg.eigvals(F4)\n",
    "s5 = linalg.eigvals(F5)\n",
    "\n",
    "print((s1.real < 0).all())\n",
    "print((s2.real < 0).all())\n",
    "print((s3.real < 0).all())\n",
    "print((s4.real < 0).all())\n",
    "print((s5.real < 0).all())"
   ]
  },
  {
   "cell_type": "code",
   "execution_count": null,
   "metadata": {},
   "outputs": [],
   "source": [
    "# The matrix to diagonalize (do not change)\n",
    "G = np.array([[1.5, 8.5], [-2.5, -7.5]])\n",
    "\n",
    "s = np.diag(G)\n",
    "# The invertible matrix V (2D numpy array)\n",
    "V = np.diag(G)\n",
    "\n",
    "# The diagonal matrix S (2D numpy array)\n",
    "# S = ...\n",
    "\n",
    "# Remember that you can use \"print\" statements to check your work.\n",
    "print(s)"
   ]
  },
  {
   "cell_type": "code",
   "execution_count": 12,
   "metadata": {},
   "outputs": [
    {
     "name": "stdout",
     "output_type": "stream",
     "text": [
      "[-1.+0.j -2.+0.j]\n",
      "[[ 0.          0.31622777]\n",
      " [ 1.         -0.9486833 ]]\n",
      "[-1.+0.j -2.+0.j]\n"
     ]
    }
   ],
   "source": [
    "import numpy as np\n",
    "from scipy import linalg\n",
    "\n",
    "# Suppress the use of scientific notation when printing small numbers\n",
    "np.set_printoptions(suppress=True)\n",
    "\n",
    "F = np.array([[-2.0, 0.0], [3.0, -1.0]])\n",
    "\n",
    "s = linalg.eigvals(F)\n",
    "print(s)\n",
    "\n",
    "s, V = linalg.eig(F)\n",
    "\n",
    "print(V)\n",
    "print(s)\n",
    "\n",
    "s1 = s[0]\n",
    "print(s1)\n",
    "\n",
    "s2 = s[1]\n",
    "print(s2)\n",
    "\n",
    "v1 = V[:, 0]\n",
    "print(v1)\n",
    "\n",
    "v2 = V[:, 1]\n",
    "print(v2)\n",
    "\n",
    "print(F @ v1)\n",
    "print(s1 * v1)\n",
    "\n",
    "print(F @ v2)\n",
    "print(s2 * v2)"
   ]
  },
  {
   "cell_type": "code",
   "execution_count": null,
   "metadata": {},
   "outputs": [],
   "source": [
    "# The matrix to diagonalize (do not change)\n",
    "G = np.array([[1.5, 8.5], [-2.5, -7.5]])\n",
    "\n",
    "# The invertible matrix V (2D numpy array)\n",
    "s,V = linalg.eig(G)\n",
    "\n",
    "# The diagonal matrix S (2D numpy array)\n",
    "S = np.diag(s)"
   ]
  },
  {
   "cell_type": "code",
   "execution_count": 28,
   "metadata": {},
   "outputs": [
    {
     "name": "stdout",
     "output_type": "stream",
     "text": [
      "[[ 0.62  0.48 -0.34 -0.8 ]\n",
      " [-0.49  0.74  0.53 -0.65]\n",
      " [ 0.09  1.06  0.27 -1.35]\n",
      " [-0.34  1.14 -0.62 -1.2 ]]\n",
      "[[0.33845061551972955, -0.23493295158675598, -0.5576489144937113, 0.06533331426397086], [0.19276504798473387, -0.7560408825740325, 0.6804443635432413, -0.7412950025797495], [0.4809913511523175, -0.010297308463544324, 0.07855923806234923, -0.6339183696522805], [0.7854553693536173, -0.6108212975771389, 0.4688833569250265, -0.21061998436750728]]\n",
      "  \n",
      "[[(-1.4463993497782275+0j), 0j, 0j, 0j], [0j, (0.06980685582521234+0j), 0j, 0j], [0j, 0j, (0.7548582056305821+0j), 0j], [0j, 0j, 0j, (1.051734288322433+0j)]]\n"
     ]
    }
   ],
   "source": [
    "import numpy as np\n",
    "\n",
    "A = np.array([[0.8, 0.4, -0.4, -0.7], [-0.4, 0.7, 0.5, -0.6], [0.9, 0.7, 0.0, -0.9], [0.2, 0.9, -0.8, -0.9]])\n",
    "B = np.array([[0.2], [0.1], [0.9], [0.6]])\n",
    "C = np.array([[-6.0, -6.0, -2.0, 5.0]])\n",
    "D = np.array([[0.0]])\n",
    "K = np.array([[0.9, -0.4, -0.3, 0.5]])\n",
    "\n",
    "F = A-B@K\n",
    "print(F)\n",
    "\n",
    "#G = C-D@K\n",
    "#print(G)\n",
    "\n",
    "s,V = linalg.eig(F)\n",
    "print(V.tolist())\n",
    "print(\"  \")\n",
    "S = np.diag(s)\n",
    "\n",
    "print(S.tolist())"
   ]
  },
  {
   "cell_type": "code",
   "execution_count": 30,
   "metadata": {},
   "outputs": [
    {
     "name": "stdout",
     "output_type": "stream",
     "text": [
      "34.0\n",
      "[[-0.975286862174966, -0.8458618108979595], [-0.2209423826903945, -0.533402096794177]]\n",
      "  \n",
      "[[(-7.414213562373095+0j), 0j], [0j, (-4.585786437626905+0j)]]\n"
     ]
    }
   ],
   "source": [
    "import numpy as np\n",
    "\n",
    "F = np.array([[-9.0, 7.0], [-1.0, -3.0]])\n",
    "\n",
    "print(linalg.det(F))\n",
    "s,V = linalg.eig(F)\n",
    "print(V.tolist())\n",
    "print(\"  \")\n",
    "S = np.diag(s)\n",
    "\n",
    "print(S.tolist())"
   ]
  },
  {
   "cell_type": "code",
   "execution_count": 38,
   "metadata": {},
   "outputs": [
    {
     "name": "stdout",
     "output_type": "stream",
     "text": [
      "[[38.0, 52.0]]\n",
      "[[-61.04166666666666, -2.5833333333333357], [13.645833333333332, -6.958333333333336]]\n"
     ]
    }
   ],
   "source": [
    "import numpy as np\n",
    "\n",
    "A = np.array([[-7.0, -1.0], [-3.0, -5.0]])\n",
    "B = np.array([[-8.0], [4.0]])\n",
    "C = np.array([[2.0, -8.0]])\n",
    "D = np.array([[0.0]])\n",
    "K = np.array([[-5.0, 4.0]])\n",
    "V = np.array([[3.0, -6.0], [-4.0, -8.0]])\n",
    "\n",
    "G = (C-D@K)@V\n",
    "print(G.tolist())\n",
    "\n",
    "F = np.linalg.inv(V)@(A-B@K)@V\n",
    "print(F.tolist())\n"
   ]
  },
  {
   "cell_type": "code",
   "execution_count": 2,
   "metadata": {},
   "outputs": [
    {
     "name": "stdout",
     "output_type": "stream",
     "text": [
      "[[5.919 2.606]\n",
      " [5.702 1.548]]\n",
      "[[-0.8 -0.2]]\n"
     ]
    }
   ],
   "source": [
    "import numpy as np\n",
    "\n",
    "A = np.array([[0.20, 0.10], [0.80, -0.60]])\n",
    "B = np.array([[0.70], [0.60]])\n",
    "C = np.array([[-0.80, -0.20]])\n",
    "D = np.array([[0]])\n",
    "p = np.array([[-8.17, -3.58]])\n",
    "\n",
    "K = p\n",
    "\n",
    "F = A-B@K\n",
    "print(F)\n",
    "\n",
    "G = C-D@K\n",
    "print(G)"
   ]
  },
  {
   "cell_type": "code",
   "execution_count": 4,
   "metadata": {},
   "outputs": [
    {
     "name": "stdout",
     "output_type": "stream",
     "text": [
      "[[-633.7580000000157, 758.3010000000185]]\n"
     ]
    }
   ],
   "source": [
    "import numpy as np\n",
    "from scipy import signal\n",
    "\n",
    "A = np.array([[0.20, 0.10], [0.80, -0.60]])\n",
    "B = np.array([[0.70], [0.60]])\n",
    "C = np.array([[-0.80, -0.20]])\n",
    "D = np.array([[0]])\n",
    "p = np.array([[-8.17, -3.58]])\n",
    "\n",
    "#find k\n",
    "fbk = signal.place_poles(A,B,[-8.17, -3.58])\n",
    "K = fbk.gain_matrix\n",
    "print(K.tolist())\n"
   ]
  },
  {
   "cell_type": "code",
   "execution_count": null,
   "metadata": {},
   "outputs": [],
   "source": []
  },
  {
   "cell_type": "code",
   "execution_count": 1,
   "metadata": {},
   "outputs": [
    {
     "name": "stdout",
     "output_type": "stream",
     "text": [
      "[7.999999999999996, 4.999999999999986, 34.99999999999983, -32.99999999999986]\n"
     ]
    }
   ],
   "source": [
    "import numpy as np\n",
    "\n",
    "A = np.array([[ 0,  5, -3,  5], [-3, -2, -1,  5], [ 3, -5, -3, -1], [ 3,  4,  0, -3]])\n",
    "\n",
    "a = np.poly(A)[1:]\n",
    "print(a.tolist())\n"
   ]
  },
  {
   "cell_type": "code",
   "execution_count": 4,
   "metadata": {},
   "outputs": [
    {
     "name": "stdout",
     "output_type": "stream",
     "text": [
      "[[0.9000000000000012, 0.7099999999999986, -0.38899999999999996], [1.0, 0.0, 0.0], [0.0, 1.0, 0.0]]\n",
      "[[1.0], [0.0], [0.0]]\n"
     ]
    }
   ],
   "source": [
    "import numpy as np\n",
    "\n",
    "A = np.array([[-0.4, -0.9, -0.3], [-0.7, 0.7, 0.2], [0.4, 0.5, 0.6]])\n",
    "B = np.array([[0.6], [0.3], [-0.2]])\n",
    "\n",
    "#r = np.poly(p)[1:].real\n",
    "\n",
    "a = np.poly(A)[1:]\n",
    "\n",
    "Accf = np.block([[-a], [np.eye(2), np.zeros((2, 1))]]) \n",
    "Bccf = np.block([[1.], [np.zeros((2, 1))]])\n",
    "\n",
    "# Accf = np.block([[-a], [np.eye(n-1), np.zeros((n*1, 1))]]) \n",
    "# Bccf = np.block([[1.], [np.zeros((n-1, 1))]])\n",
    "\n",
    "\n",
    "print(Accf.tolist())\n",
    "print(Bccf.tolist())"
   ]
  },
  {
   "cell_type": "code",
   "execution_count": 7,
   "metadata": {},
   "outputs": [
    {
     "name": "stdout",
     "output_type": "stream",
     "text": [
      "[[13.0, 16.0]]\n"
     ]
    }
   ],
   "source": [
    "import numpy as np\n",
    "\n",
    "A = np.array([[4.0, -4.0], [1.0, 0.0]])\n",
    "B = np.array([[1.0], [0.0]])\n",
    "r = np.array([[9.0, 20.0]])\n",
    "\n",
    "a = np.poly(A)[1:]\n",
    "\n",
    "Kccf = (r - a).reshape([1, -1])\n",
    "print(Kccf.tolist())"
   ]
  },
  {
   "cell_type": "code",
   "execution_count": 17,
   "metadata": {},
   "outputs": [],
   "source": [
    "############################################################################\n",
    "#acker\n",
    "############################################################################\n",
    "def acker(A, B, p):\n",
    "    \"\"\"\n",
    "    INPUTS\n",
    "    - A and B are 2d numpy arrays that describe a state-space system\n",
    "    - p is a list of desired eigenvalue locations\n",
    "    OUTPUTS\n",
    "    - K, a 2d numpy array, is a gain matrix that would put closed-loop eigenvalues at p\n",
    "    \n",
    "    We assume that B has only one column (i.e., the system described by A and B\n",
    "    has only one input) and that every complex number in p has a conjugate pair.\n",
    "    \"\"\"\n",
    "    \n",
    "    # Find the coefficients of the characteristic polynomial with roots at p\n",
    "    r = np.poly(p)[1:].real\n",
    "    \n",
    "    # Find the coefficients of the characteristic polynomial of A\n",
    "    a = np.poly(A)[1:]\n",
    "    \n",
    "    # Find the state space system (Accf, Bccf) that is equivalent to (A, B)\n",
    "    # but that is in controllable canonical form\n",
    "    Accf = np.block([[-a], [np.eye(A.shape[0]-1), np.zeros((A.shape[0]-1, 1))]])\n",
    "    Bccf = np.block([[1.], [np.zeros((A.shape[0]-1, 1))]])\n",
    "    \n",
    "    # Find state feedback for (Accf, Bccf)\n",
    "    Kccf = (r - a).reshape([1, -1])\n",
    "    \n",
    "    # Find the coordinate transformation between (Accf, Bccf) and (A, B)\n",
    "    W = B\n",
    "    n = A.shape[0]\n",
    "    for i in range(1, n):\n",
    "        col = np.linalg.matrix_power(A, i) @ B\n",
    "        W = np.block([W, col])\n",
    "    \n",
    "    Wccf = Bccf\n",
    "    n = A.shape[0]\n",
    "    for i in range(1, n):\n",
    "        col = np.linalg.matrix_power(Accf, i) @ Bccf\n",
    "        Wccf = np.block([Wccf, col])\n",
    "    \n",
    "    inverse_of_V = Wccf @ linalg.inv(W)\n",
    "    \n",
    "    # Find and return state feedback for (A, B)\n",
    "    K = Kccf @ inverse_of_V\n",
    "    return K\n"
   ]
  },
  {
   "cell_type": "code",
   "execution_count": 33,
   "metadata": {},
   "outputs": [
    {
     "name": "stdout",
     "output_type": "stream",
     "text": [
      "[2.0, -36.0, -102.0, 275.0, 1300.0]\n",
      "[-0.8999999999999999, -0.4800000000000014, 0.49700000000000133, -0.16050000000000061]\n"
     ]
    }
   ],
   "source": [
    "import numpy as np\n",
    "\n",
    "p = [5.0+0.0j, -5.0+0.0j, -3.0-2.0j, -3.0+2.0j, 4.0+0.0j]\n",
    "\n",
    "r = np.poly(p)[1:].real\n",
    "print(r.tolist())\n",
    "\n",
    "# Find the coefficients of the characteristic polynomial of A\n",
    "a = np.poly(A)[1:]\n",
    "print(a.tolist())\n"
   ]
  },
  {
   "cell_type": "code",
   "execution_count": 11,
   "metadata": {},
   "outputs": [
    {
     "name": "stdout",
     "output_type": "stream",
     "text": [
      "[[-1.9999999999989404, 4.999999999998312, 1.9999999999991582], [-2.999999999999053, 2.999999999998505, 1.99999999999925], [0.99999999999946, -1.9999999999991394, -0.999999999999571]]\n"
     ]
    }
   ],
   "source": [
    "import numpy as np\n",
    "from scipy import linalg\n",
    "\n",
    "A = np.array([[0.1, 0.9, -0.7], [-0.5, 0.4, -0.5], [0.1, -0.6, 0.5]])\n",
    "B = np.array([[0.6], [-0.5], [-0.7]])\n",
    "F = np.array([[-4.1, 4.9, 3.0], [0.6, -0.0, -0.3], [-7.4, 7.2, 5.1]])\n",
    "G = np.array([[2.7], [-0.8], [5.0]])\n",
    "\n",
    "Accf = F\n",
    "Bccf = G\n",
    "\n",
    "Wccf = Bccf\n",
    "\n",
    "n = A.shape[0]\n",
    "\n",
    "W = B\n",
    "n = A.shape[0]\n",
    "for i in range(1, n):\n",
    "    col = np.linalg.matrix_power(A, i) @ B\n",
    "    W = np.block([W, col])\n",
    "\n",
    "for i in range(1, n):\n",
    "    col = np.linalg.matrix_power(Accf, i) @ Bccf\n",
    "    Wccf = np.block([Wccf, col])\n",
    "\n",
    "inverse_of_V = Wccf @ linalg.inv(W)\n",
    "\n",
    "V = linalg.inv(inverse_of_V)\n",
    "\n",
    "print(V.tolist())"
   ]
  },
  {
   "cell_type": "code",
   "execution_count": 28,
   "metadata": {},
   "outputs": [
    {
     "name": "stdout",
     "output_type": "stream",
     "text": [
      "[[-12.000000000000002, 7.000000000000002]]\n"
     ]
    }
   ],
   "source": [
    "import numpy as np\n",
    "\n",
    "A = np.array([[0.2, -0.5], [0.5, -0.2]])\n",
    "B = np.array([[0.5], [0.7]])\n",
    "F = np.array([[0.9, 0.6], [-1.7, -0.9]])\n",
    "G = np.array([[0.2], [0.3]])\n",
    "V = np.array([[1, 1], [2, 1]])\n",
    "L = np.array([[ 2, -5]])\n",
    "\n",
    "Accf = F\n",
    "Bccf = G\n",
    "Kccf = L\n",
    "\n",
    "#print(acker(A,B,[3, 5]).tolist())\n",
    "\n",
    "W = B\n",
    "n = A.shape[0]\n",
    "for i in range(1, n):\n",
    "    col = np.linalg.matrix_power(A, i) @ B\n",
    "    W = np.block([W, col])\n",
    "\n",
    "Wccf = Bccf\n",
    "n = A.shape[0]\n",
    "for i in range(1, n):\n",
    "    col = np.linalg.matrix_power(Accf, i) @ Bccf\n",
    "    Wccf = np.block([Wccf, col])\n",
    "\n",
    "inverse_of_V = Wccf @ linalg.inv(W)\n",
    "\n",
    "\n",
    "K = Kccf @ inverse_of_V\n",
    "print(K.tolist())"
   ]
  },
  {
   "cell_type": "code",
   "execution_count": 31,
   "metadata": {},
   "outputs": [
    {
     "name": "stdout",
     "output_type": "stream",
     "text": [
      "[40.0, 641.0, 4820.0, 14500.0]\n",
      "[-0.8999999999999999, -0.4800000000000014, 0.49700000000000133, -0.16050000000000061]\n",
      "[[0.8999999999999999, 0.4800000000000014, -0.49700000000000133, 0.16050000000000061], [1.0, 0.0, 0.0, 0.0], [0.0, 1.0, 0.0, 0.0], [0.0, 0.0, 1.0, 0.0]]\n",
      "[[1.0], [0.0], [0.0], [0.0]]\n",
      "[[40.9, 641.48, 4819.503, 14500.1605]]\n",
      "[[0.7999999999999995, -0.9999999999999978, -0.3370000000000045, 0.5109000000000032], [-0.8999999999999972, 0.06999999999999539, 1.2260000000000022, -0.3611999999999995], [-0.20000000000000262, 0.6800000000000015, -1.224999999999995, 0.7304999999999954], [-0.4000000000000016, 0.8300000000000005, -0.6469999999999955, 0.24599999999999578]]\n"
     ]
    }
   ],
   "source": [
    "import numpy as np\n",
    "\n",
    "A = np.array([[0.2, 0.4, 0.2, 0.1], [-0.9, 0.2, 0.8, -0.8], [0.7, 0.4, -0.1, -0.7], [0.8, 0.1, -0.8, 0.6]])\n",
    "B = np.array([[0.8], [-0.9], [-0.2], [-0.4]])\n",
    "p = [-10.0+5.0j, -10.0-5.0j, -10.0+4.0j, -10.0-4.0j]\n",
    "\n",
    "r = np.poly(p)[1:].real\n",
    "print(r.tolist())\n",
    "\n",
    "# Find the coefficients of the characteristic polynomial of A\n",
    "a = np.poly(A)[1:]\n",
    "print(a.tolist())\n",
    "\n",
    "# Find the state space system (Accf, Bccf) that is equivalent to (A, B)\n",
    "# but that is in controllable canonical form\n",
    "Accf = np.block([[-a], [np.eye(A.shape[0]-1), np.zeros((A.shape[0]-1, 1))]])\n",
    "Bccf = np.block([[1.], [np.zeros((A.shape[0]-1, 1))]])\n",
    "print(Accf.tolist())\n",
    "print(Bccf.tolist())\n",
    "\n",
    "# Find state feedback for (Accf, Bccf)\n",
    "Kccf = (r - a).reshape([1, -1])\n",
    "print(Kccf.tolist())\n",
    "\n",
    "# Find the coordinate transformation between (Accf, Bccf) and (A, B)\n",
    "W = B\n",
    "n = A.shape[0]\n",
    "for i in range(1, n):\n",
    "    col = np.linalg.matrix_power(A, i) @ B\n",
    "    W = np.block([W, col])\n",
    "\n",
    "Wccf = Bccf\n",
    "n = A.shape[0]\n",
    "for i in range(1, n):\n",
    "    col = np.linalg.matrix_power(Accf, i) @ Bccf\n",
    "    Wccf = np.block([Wccf, col])\n",
    "\n",
    "inverse_of_V = Wccf @ linalg.inv(W)\n",
    "print(linalg.inv(inverse_of_V).tolist())\n",
    "\n",
    "# Find and return state feedback for (A, B)\n",
    "K = Kccf @ inverse_of_V\n"
   ]
  },
  {
   "cell_type": "code",
   "execution_count": 5,
   "metadata": {},
   "outputs": [
    {
     "name": "stdout",
     "output_type": "stream",
     "text": [
      "[[0.0, 0.06666666666666667], [0.06666666666666667, 0.0]]\n",
      "2\n"
     ]
    }
   ],
   "source": [
    "import numpy as np\n",
    "from scipy import linalg\n",
    "\n",
    "A = np.array([[0, 1], [0, 0]])\n",
    "B = np.array([[0], [1/15]])\n",
    "\n",
    "W = B\n",
    "n = A.shape[0]\n",
    "for i in range(1, n):\n",
    "    col = np.linalg.matrix_power(A, i) @ B\n",
    "    W = np.block([W, col])\n",
    "    \n",
    "print(W.tolist())\n",
    "print(np.linalg.matrix_rank(W))"
   ]
  },
  {
   "cell_type": "code",
   "execution_count": 7,
   "metadata": {},
   "outputs": [
    {
     "name": "stdout",
     "output_type": "stream",
     "text": [
      "[[0.0, 0.06666666666666667, 0.0], [0.06666666666666667, 0.0, 0.0], [-1.0, 0.0, 0.0]]\n",
      "2\n"
     ]
    }
   ],
   "source": [
    "import numpy as np\n",
    "from scipy import linalg\n",
    "\n",
    "A = np.array([[0, 1, 0], [0, 0, 0], [0,0,0]])\n",
    "B = np.array([[0], [1/15], [-1]])\n",
    "\n",
    "W = B\n",
    "n = A.shape[0]\n",
    "for i in range(1, n):\n",
    "    col = np.linalg.matrix_power(A, i) @ B\n",
    "    W = np.block([W, col])\n",
    "    \n",
    "print(W.tolist())\n",
    "print(np.linalg.matrix_rank(W))"
   ]
  },
  {
   "cell_type": "code",
   "execution_count": 8,
   "metadata": {},
   "outputs": [
    {
     "name": "stdout",
     "output_type": "stream",
     "text": [
      "[[0.0, 0.06666666666666667, 0.0], [0.06666666666666667, 0.0, -1.6133333333333335e-07], [-1.0, 0.0, 0.0]]\n",
      "3\n"
     ]
    }
   ],
   "source": [
    "import numpy as np\n",
    "from scipy import linalg\n",
    "\n",
    "A = np.array([[0, 1, 0], [3*0.0011*0.0011*(5-15)/15, 0, 0], [0,0,0]])\n",
    "B = np.array([[0], [1/15], [-1]])\n",
    "\n",
    "W = B\n",
    "n = A.shape[0]\n",
    "for i in range(1, n):\n",
    "    col = np.linalg.matrix_power(A, i) @ B\n",
    "    W = np.block([W, col])\n",
    "    \n",
    "print(W.tolist())\n",
    "print(np.linalg.matrix_rank(W))"
   ]
  },
  {
   "cell_type": "code",
   "execution_count": 9,
   "metadata": {},
   "outputs": [
    {
     "name": "stdout",
     "output_type": "stream",
     "text": [
      "[[0.2, 0.14000000000000412, -0.1400000000020034, -0.016799999995896542], [1.2, 0.5600000000000094, -0.5040000000121125, -0.043400000001838634], [1.8, 0.9800000000000466, -0.9659999999859892, -0.09240000000645665], [-8.9, -5.040000000000248, 5.026000000040369, 0.5026000000347324]]\n",
      "4\n",
      " \n",
      "[[0.5, 0.10999999999999943, -0.0009999999999934506], [-1.6, -0.34000000000000163, 0.007999999999984908], [3.2, 0.6800000000000033, -0.015999999999969816]]\n",
      "2\n",
      " \n",
      "[[-0.5, -0.8399999999999892, -0.5370000000036761, -0.06730000000651692], [-2.4, -4.029999999999916, -2.5710000000140383, -0.32020000002921734], [-3.4, -5.610000000000014, -3.565000000009036, -0.4378000000140787], [-9.6, -16.119999999999663, -10.284000000056153, -1.2808000001168693]]\n",
      "3\n",
      " \n",
      "[[-0.2, 0.16000000000000003, 0.027999999999997693, 0.012000000000001121], [-0.8, 0.8600000000000012, 0.15400000000001235, 0.05419999999997693], [2.3, -2.0699999999999985, -0.38900000000000645, -0.14909999999995005], [2.3, -2.0699999999999985, -0.38900000000000645, -0.14909999999995005]]\n",
      "3\n",
      " \n",
      "[[0.2, -0.14, 0.10600000000000001], [0.5, -0.37, 0.277], [0.0, 0.0, 0.0]]\n",
      "2\n"
     ]
    }
   ],
   "source": [
    "import numpy as np\n",
    "from scipy import linalg\n",
    "\n",
    "A1 = np.array([[2.0, -11.6, 42.2, 7.0], [14.5, -44.0, 164.5, 27.6], [22.7, -82.2, 304.0, 50.8], [-109.0, 425.0, -1566.5, -261.4]])\n",
    "B1 = np.array([[0.2], [1.2], [1.8], [-8.9]])\n",
    "A2 = np.array([[-6.5, -2.9, -0.4], [21.4, 9.5, 1.3], [-42.8, -19.0, -2.6]])\n",
    "B2 = np.array([[0.5], [-1.6], [3.2]])\n",
    "A3 = np.array([[-144.8, 52.9, 8.2, -8.5], [-693.3, 253.1, 39.4, -40.7], [-962.3, 352.5, 55.0, -56.9], [-2773.2, 1012.4, 157.6, -162.8]])\n",
    "B3 = np.array([[-0.5], [-2.4], [-3.4], [-9.6]])\n",
    "A4 = np.array([[-5.1, 0.5, -1.3, 1.1], [-24.0, 3.2, -5.1, 4.5], [62.9, -7.1, 15.0, -12.9], [62.9, -7.1, 15.0, -12.9]])\n",
    "B4 = np.array([[-0.2], [-0.8], [2.3], [2.3]])\n",
    "A5 = np.array([[0.3, -0.4, 1.8], [0.4, -0.9, 4.3], [0.0, 0.0, 0.0]])\n",
    "B5 = np.array([[0.2], [0.5], [0.0]])\n",
    "\n",
    "W1 = B1\n",
    "n = A1.shape[0]\n",
    "for i in range(1, n):\n",
    "    col = np.linalg.matrix_power(A1, i) @ B1\n",
    "    W1 = np.block([W1, col])\n",
    "    \n",
    "print(W1.tolist())\n",
    "print(np.linalg.matrix_rank(W1))\n",
    "\n",
    "print(\" \")\n",
    "\n",
    "W2 = B2\n",
    "n = A2.shape[0]\n",
    "for i in range(1, n):\n",
    "    col = np.linalg.matrix_power(A2, i) @ B2\n",
    "    W2 = np.block([W2, col])\n",
    "    \n",
    "print(W2.tolist())\n",
    "print(np.linalg.matrix_rank(W2))\n",
    "\n",
    "print(\" \")\n",
    "\n",
    "W3 = B3\n",
    "n = A3.shape[0]\n",
    "for i in range(1, n):\n",
    "    col = np.linalg.matrix_power(A3, i) @ B3\n",
    "    W3 = np.block([W3, col])\n",
    "    \n",
    "print(W3.tolist())\n",
    "print(np.linalg.matrix_rank(W3))\n",
    "\n",
    "print(\" \")\n",
    "\n",
    "W4 = B4\n",
    "n = A4.shape[0]\n",
    "for i in range(1, n):\n",
    "    col = np.linalg.matrix_power(A4, i) @ B4\n",
    "    W4 = np.block([W4, col])\n",
    "    \n",
    "print(W4.tolist())\n",
    "print(np.linalg.matrix_rank(W4))\n",
    "\n",
    "print(\" \")\n",
    "\n",
    "W5 = B5\n",
    "n = A5.shape[0]\n",
    "for i in range(1, n):\n",
    "    col = np.linalg.matrix_power(A5, i) @ B5\n",
    "    W5 = np.block([W5, col])\n",
    "    \n",
    "print(W5.tolist())\n",
    "print(np.linalg.matrix_rank(W5))"
   ]
  },
  {
   "cell_type": "code",
   "execution_count": 10,
   "metadata": {},
   "outputs": [
    {
     "name": "stdout",
     "output_type": "stream",
     "text": [
      "[[1.0, -1.0, 1.0], [-1.0, 1.0, -1.0], [1.0, -1.0, 1.0]]\n",
      "1\n"
     ]
    }
   ],
   "source": [
    "import numpy as np\n",
    "from scipy import linalg\n",
    "\n",
    "A = np.array([[5.00, 6.00, 0.00], [-3.00, -4.00, 0.00], [0.00, 0.00, -1.00]])\n",
    "B = np.array([[1.00], [-1.00], [1.00]])\n",
    "pdes = -2.00\n",
    "\n",
    "W = B\n",
    "n = A.shape[0]\n",
    "for i in range(1, n):\n",
    "    col = np.linalg.matrix_power(A, i) @ B\n",
    "    W = np.block([W, col])\n",
    "    \n",
    "print(W.tolist())\n",
    "print(np.linalg.matrix_rank(W))"
   ]
  },
  {
   "cell_type": "code",
   "execution_count": 12,
   "metadata": {},
   "outputs": [
    {
     "name": "stdout",
     "output_type": "stream",
     "text": [
      "A = [[1.0, 3.0], [-2.0, 2.0]]\n",
      "B = [[-1.0], [1.0]]\n",
      "Q = [[1.0, 0.0], [0.0, 1.0]]\n",
      "R = [[1.0]]\n",
      "P = [[1.8674319231246386, 0.9922146371413154], [0.9922146371413154, 6.855134047563073]]\n",
      "K = [[-0.8752172859833232, 5.862919410421758]]\n",
      "u = [[12.601056106826839]]\n",
      "total_cost = 25.31910956481167\n"
     ]
    }
   ],
   "source": [
    "#############################################################################\n",
    "#LQR\n",
    "#############################################################################\n",
    "\n",
    "# Define the system\n",
    "A = np.array([[1., 3.], [-2., 2.]])\n",
    "print(f'A = {A.tolist()}')\n",
    "\n",
    "B = np.array([[-1.], [1.]])\n",
    "print(f'B = {B.tolist()}')\n",
    "\n",
    "# Define the weights\n",
    "Q = np.eye(2)\n",
    "print(f'Q = {Q.tolist()}')\n",
    "\n",
    "R = np.eye(1)\n",
    "print(f'R = {R.tolist()}')\n",
    "\n",
    "# Define the initial condition\n",
    "x0 = np.array([[1.], [-2.]])\n",
    "\n",
    "# Find the optimal cost matrix and gain matrix (both should be 2D NumPy arrays)\n",
    "P = linalg.solve_continuous_are(A, B, Q, R)\n",
    "print(f'P = {P.tolist()}')\n",
    "\n",
    "K = linalg.inv(R) @  B.T @ P\n",
    "print(f'K = {K.tolist()}')\n",
    "\n",
    "# Find the corresponding input at the initial time (should be 2D NumPy array)\n",
    "u = - K @ x0\n",
    "print(f'u = {u.tolist()}')\n",
    "\n",
    "# Find the corresponding total cost over all time (should be a scalar - a single floating-point number)\n",
    "total_cost = (x0.T @ P @ x0).item()\n",
    "print(f'total_cost = {total_cost}')"
   ]
  },
  {
   "cell_type": "code",
   "execution_count": 4,
   "metadata": {},
   "outputs": [
    {
     "name": "stdout",
     "output_type": "stream",
     "text": [
      "P = [[10.696598582024512, -2.5741200728296336, 4.608838858965351], [-2.5741200728296336, 2.1278393768936925, -1.0987728066354243], [4.608838858965351, -1.0987728066354243, 2.997418326162795]]\n",
      "K = [[0.45711853323972873, -0.2803955277129482, -0.21585293539444272], [3.0688255162961333, -1.2115288607181312, 0.8872979781181747]]\n"
     ]
    }
   ],
   "source": [
    "import numpy as np\n",
    "from scipy import linalg\n",
    "\n",
    "A = np.array([[0.40, -0.30, 0.80], [-0.60, -0.90, 1.00], [0.80, -1.00, -1.00]])\n",
    "B = np.array([[0.50, 0.90], [-0.30, -0.70], [-1.00, -1.00]])\n",
    "Q = np.array([[2.60, 0.00, -0.55], [0.00, 3.60, 0.00], [-0.55, 0.00, 2.60]])\n",
    "R = np.array([[2.30, 0.15], [0.15, 2.20]])\n",
    "t0 = 0.90\n",
    "x0 = np.array([[-0.75], [-0.13], [-0.90]])\n",
    "\n",
    "P = linalg.solve_continuous_are(A, B, Q, R)\n",
    "print(f'P = {P.tolist()}')\n",
    "\n",
    "K = linalg.inv(R) @  B.T @ P\n",
    "print(f'K = {K.tolist()}')"
   ]
  },
  {
   "cell_type": "code",
   "execution_count": 2,
   "metadata": {},
   "outputs": [
    {
     "data": {
      "text/plain": [
       "2"
      ]
     },
     "execution_count": 2,
     "metadata": {},
     "output_type": "execute_result"
    }
   ],
   "source": [
    "1+1"
   ]
  },
  {
   "cell_type": "code",
   "execution_count": 14,
   "metadata": {},
   "outputs": [
    {
     "name": "stdout",
     "output_type": "stream",
     "text": [
      "P = [[1.100429553506857, -0.4389057757472721], [-0.4389057757472721, 6.415639834764476]]\n",
      "K = [[-0.4863240529594425, 1.2587579176353523], [-0.4986122394352614, 1.8562366201004492]]\n",
      "u = [[-1.0773780749379933], [-1.5231987707049108]]\n"
     ]
    }
   ],
   "source": [
    "import numpy as np\n",
    "\n",
    "A = np.array([[-0.50, 0.40], [-0.70, 0.90]])\n",
    "B = np.array([[-0.90, -0.90], [0.40, 0.70]])\n",
    "Q = np.array([[1.70, 0.35], [0.35, 1.60]])\n",
    "R = np.array([[2.50, -0.10], [-0.10, 2.70]])\n",
    "t0 = 0.90\n",
    "x0 = np.array([[-0.30], [0.74]])\n",
    "\n",
    "P = linalg.solve_continuous_are(A, B, Q, R)\n",
    "print(f'P = {P.tolist()}')\n",
    "\n",
    "K = linalg.inv(R) @  B.T @ P\n",
    "print(f'K = {K.tolist()}')\n",
    "\n",
    "# Find the corresponding input at the initial time (should be 2D NumPy array)\n",
    "u = - K @ x0\n",
    "print(f'u = {u.tolist()}')"
   ]
  },
  {
   "cell_type": "code",
   "execution_count": 15,
   "metadata": {},
   "outputs": [
    {
     "name": "stdout",
     "output_type": "stream",
     "text": [
      "P = [[19.927804002957647, -6.54655511817392, -8.429270464715637, -5.475355292035919], [-6.54655511817392, 4.856137704088229, 1.8688271322899692, 2.2557304588215095], [-8.429270464715637, 1.8688271322899692, 8.105751399199958, 2.7170762323143736], [-5.475355292035919, 2.2557304588215095, 2.7170762323143736, 6.141115011373602]]\n",
      "K = [[-0.9768318923216781, 1.030106886859504, 2.7376248566621864, 0.7364029939799843], [0.9969662200203131, -1.3276910272787343, -2.490969917301337, 0.17453242677171343], [3.271746216450935, -1.751568055251881, -1.5327211023591072, -1.4835806746304585]]\n",
      "u = [[2.006064729919713], [-1.4511874967890133], [-3.847081267319582]]\n",
      "total_cost = 20.567980436972746\n"
     ]
    }
   ],
   "source": [
    "import numpy as np\n",
    "\n",
    "A = np.array([[1.00, -0.40, -0.10, -0.80], [0.40, 0.20, 0.20, 1.00], [0.60, 0.90, 0.90, -1.00], [0.50, -1.00, 0.60, -0.50]])\n",
    "B = np.array([[0.60, -0.60, 0.20], [0.70, -1.00, -0.30], [1.00, -1.00, 0.10], [0.10, 0.50, -0.30]])\n",
    "Q = np.array([[4.90, -0.10, 0.20, 0.05], [-0.10, 3.50, 0.45, -0.35], [0.20, 0.45, 4.70, -0.15], [0.05, -0.35, -0.15, 4.70]])\n",
    "R = np.array([[2.10, 0.45, 0.00], [0.45, 2.20, -0.45], [0.00, -0.45, 2.20]])\n",
    "t0 = 0.00\n",
    "x0 = np.array([[0.43], [-0.61], [-0.14], [-0.78]])\n",
    "\n",
    "P = linalg.solve_continuous_are(A, B, Q, R)\n",
    "print(f'P = {P.tolist()}')\n",
    "\n",
    "K = linalg.inv(R) @  B.T @ P\n",
    "print(f'K = {K.tolist()}')\n",
    "\n",
    "# Find the corresponding input at the initial time (should be 2D NumPy array)\n",
    "u = - K @ x0\n",
    "print(f'u = {u.tolist()}')\n",
    "\n",
    "# Find the corresponding total cost over all time (should be a scalar - a single floating-point number)\n",
    "total_cost = (x0.T @ P @ x0).item()\n",
    "print(f'total_cost = {total_cost}')"
   ]
  },
  {
   "cell_type": "code",
   "execution_count": 3,
   "metadata": {},
   "outputs": [],
   "source": [
    "import numpy as np\n",
    "import sympy as sym\n",
    "\n",
    "e_lat, e_head, v, w, theta, theta_dot,tau_left, tau_right = sym.symbols('e_lat, e_head, v, w, theta, theta_dot,tau_left, tau_right')\n",
    "\n",
    "e_dot_lat = v*sym.sin(e_head)\n",
    "edot_head = w\n",
    "n_h = 2400*tau_left + 2400*tau_right + 2808*(theta_dot**2 +w**2)*sym.sin(theta)+13*(250*tau_left + 250*tau_right - 195*w**2*sym.sin(2*theta)-8829*sym.sin(theta))*sym.cos(theta)\n",
    "d_h = 11700*sym.cos(theta)**2 - 12168\n",
    "v_dot = -n_h/d_h\n",
    "n_w = 32*(-875*tau_left + 875*tau_right - 1443*theta_dot*w*sym.sin(2*theta) - 2925*v*w*sym.sin(theta))\n",
    "d_w = 13*(3120*sym.sin(theta)**2 + 2051)\n",
    "w_dot = n_w/d_w\n",
    "n_t = 42250*tau_left + 42250*tau_right - 32955*w**2*sym.sin(2*theta) + 300*(100*tau_left + 100*tau_right + 117*(theta_dot**2 + w**2)*sym.sin(theta))*sym.cos(theta) - 1492101*sym.sin(theta)\n",
    "d_t = 1404*(25*sym.cos(theta)**2 - 26) \n",
    "theta_ddot = n_t/d_t\n",
    "\n",
    "f = sym.Matrix([[e_dot_lat],[edot_head],[v_dot],[w_dot], [theta_ddot]])"
   ]
  },
  {
   "cell_type": "code",
   "execution_count": 4,
   "metadata": {},
   "outputs": [
    {
     "data": {
      "text/latex": [
       "$\\displaystyle \\left[\\begin{matrix}v \\sin{\\left(e_{head} \\right)}\\\\w\\\\\\frac{- 2400 \\tau_{left} - 2400 \\tau_{right} - \\left(2808 \\theta_{dot}^{2} + 2808 w^{2}\\right) \\sin{\\left(\\theta \\right)} - \\left(3250 \\tau_{left} + 3250 \\tau_{right} - 2535 w^{2} \\sin{\\left(2 \\theta \\right)} - 114777 \\sin{\\left(\\theta \\right)}\\right) \\cos{\\left(\\theta \\right)}}{11700 \\cos^{2}{\\left(\\theta \\right)} - 12168}\\\\\\frac{- 28000 \\tau_{left} + 28000 \\tau_{right} - 46176 \\theta_{dot} w \\sin{\\left(2 \\theta \\right)} - 93600 v w \\sin{\\left(\\theta \\right)}}{40560 \\sin^{2}{\\left(\\theta \\right)} + 26663}\\\\\\frac{42250 \\tau_{left} + 42250 \\tau_{right} - 32955 w^{2} \\sin{\\left(2 \\theta \\right)} + \\left(30000 \\tau_{left} + 30000 \\tau_{right} + 300 \\left(117 \\theta_{dot}^{2} + 117 w^{2}\\right) \\sin{\\left(\\theta \\right)}\\right) \\cos{\\left(\\theta \\right)} - 1492101 \\sin{\\left(\\theta \\right)}}{35100 \\cos^{2}{\\left(\\theta \\right)} - 36504}\\end{matrix}\\right]$"
      ],
      "text/plain": [
       "Matrix([\n",
       "[                                                                                                                                                                                                 v*sin(e_head)],\n",
       "[                                                                                                                                                                                                             w],\n",
       "[       (-2400*tau_left - 2400*tau_right - (2808*theta_dot**2 + 2808*w**2)*sin(theta) - (3250*tau_left + 3250*tau_right - 2535*w**2*sin(2*theta) - 114777*sin(theta))*cos(theta))/(11700*cos(theta)**2 - 12168)],\n",
       "[                                                                                     (-28000*tau_left + 28000*tau_right - 46176*theta_dot*w*sin(2*theta) - 93600*v*w*sin(theta))/(40560*sin(theta)**2 + 26663)],\n",
       "[(42250*tau_left + 42250*tau_right - 32955*w**2*sin(2*theta) + (30000*tau_left + 30000*tau_right + 300*(117*theta_dot**2 + 117*w**2)*sin(theta))*cos(theta) - 1492101*sin(theta))/(35100*cos(theta)**2 - 36504)]])"
      ]
     },
     "execution_count": 4,
     "metadata": {},
     "output_type": "execute_result"
    }
   ],
   "source": [
    "f"
   ]
  },
  {
   "cell_type": "code",
   "execution_count": 10,
   "metadata": {},
   "outputs": [
    {
     "name": "stdout",
     "output_type": "stream",
     "text": [
      "[[ 0.  0.  0.  0.  0.]\n",
      " [ 0.  0.  0.  1.  0.]\n",
      " [ 0.  0.  0. -0. -0.]\n",
      " [ 0.  0.  0.  0.  0.]\n",
      " [ 0.  0.  0. -0. -0.]]\n",
      "[[  0.           0.        ]\n",
      " [  0.           0.        ]\n",
      " [ 12.07264957  12.07264957]\n",
      " [ -1.05014439   1.05014439]\n",
      " [-51.46011396 -51.46011396]]\n"
     ]
    }
   ],
   "source": [
    "e_le = 0\n",
    "e_he = 0\n",
    "ve = 0\n",
    "we = 0\n",
    "thetae = 0\n",
    "thetadote = 0\n",
    "tau_Le = 0\n",
    "tau_Re = 0\n",
    "\n",
    "\n",
    "\n",
    "#Create lambda functions A\n",
    "A_num = sym.lambdify((e_lat, e_head, v, w, theta, theta_dot), f.jacobian([e_lat, e_head, v, w, theta_dot]))\n",
    "\n",
    "A = A_num(e_le,e_he, ve, we, thetae, thetadote)\n",
    "\n",
    "print(A)\n",
    "\n",
    "# Create lambda functions B\n",
    "B_num = sym.lambdify((e_lat, e_head, v, w, theta, theta_dot), f.jacobian([tau_left, tau_right])) \n",
    "\n",
    "# Evaluate lambda function at equilibrium point\n",
    "B = B_num(e_le, e_he, ve, we, thetae, thetadote)\n",
    "\n",
    "# Display the result\n",
    "print(B)\n",
    "\n"
   ]
  },
  {
   "cell_type": "code",
   "execution_count": 5,
   "metadata": {},
   "outputs": [
    {
     "name": "stdout",
     "output_type": "stream",
     "text": [
      "[[ 0.00000000e+00  0.00000000e+00  0.00000000e+00  0.00000000e+00\n",
      "  -1.05014439e+00  1.05014439e+00  0.00000000e+00  0.00000000e+00\n",
      "   0.00000000e+00  0.00000000e+00  0.00000000e+00  0.00000000e+00]\n",
      " [ 0.00000000e+00  0.00000000e+00 -1.05014439e+00  1.05014439e+00\n",
      "   0.00000000e+00  0.00000000e+00  0.00000000e+00  0.00000000e+00\n",
      "   0.00000000e+00  0.00000000e+00  0.00000000e+00  0.00000000e+00]\n",
      " [ 0.00000000e+00  0.00000000e+00 -5.14601140e+01 -5.14601140e+01\n",
      "   0.00000000e+00  0.00000000e+00 -5.46892361e+04 -5.46892361e+04\n",
      "   0.00000000e+00  0.00000000e+00 -5.81209857e+07 -5.81209857e+07]\n",
      " [ 1.20726496e+01  1.20726496e+01  0.00000000e+00  0.00000000e+00\n",
      "   1.26205929e+04  1.26205929e+04  0.00000000e+00  0.00000000e+00\n",
      "   1.34125352e+07  1.34125352e+07  0.00000000e+00  0.00000000e+00]\n",
      " [-1.05014439e+00  1.05014439e+00  0.00000000e+00  0.00000000e+00\n",
      "   0.00000000e+00  0.00000000e+00  0.00000000e+00  0.00000000e+00\n",
      "   0.00000000e+00  0.00000000e+00  0.00000000e+00  0.00000000e+00]\n",
      " [-5.14601140e+01 -5.14601140e+01  0.00000000e+00  0.00000000e+00\n",
      "  -5.46892361e+04 -5.46892361e+04  0.00000000e+00  0.00000000e+00\n",
      "  -5.81209857e+07 -5.81209857e+07  0.00000000e+00  0.00000000e+00]]\n",
      "6\n"
     ]
    }
   ],
   "source": [
    "import numpy as np\n",
    "Z = np.array([[0.0, 0.0, 0.0, 0.0, -1.05014439485429, 1.05014439485429, 0, 0, 0, 0, 0, 0], [0.0, 0.0, -1.0501443948542923, 1.0501443948542923, 0, 0, 0, 0, 0, 0, 0, 0], [0.0, 0.0, -51.460113960113965, -51.460113960113965, 0, 0, -54689.2361111111, -54689.2361111111, 0, 0, -58120985.6770833, -58120985.6770833], [12.072649572649572, 12.072649572649572, 0, 0, 12620.5929487179, 12620.5929487179, 0, 0, 13412535.1562500, 13412535.1562500, 0, 0], [-1.0501443948542923, 1.0501443948542923, 0, 0, 0, 0, 0, 0, 0, 0, 0, 0], [-51.460113960113965, -51.460113960113965, 0, 0, -54689.2361111111, -54689.2361111111, 0, 0, -58120985.6770833, -58120985.6770833, 0, 0]])\n",
    "print(Z)\n",
    "print(np.linalg.matrix_rank(Z))"
   ]
  },
  {
   "cell_type": "code",
   "execution_count": null,
   "metadata": {},
   "outputs": [],
   "source": [
    "class RobotController:\n",
    "    \"\"\"\n",
    "    A 'class' allows functions to share a set of variables without\n",
    "    having to make those variables 'global'.\n",
    "    \n",
    "    Our control design has a bunch of variables (the time step, the\n",
    "    equilibrium point, the state-space model, the controller and observer\n",
    "    gains, and the state estimate) that need to be shared among several\n",
    "    different functions (to initialize everything, to reset the state\n",
    "    estimate, and to run the controller and observer), so the use of a\n",
    "    class is helpful.\n",
    "        \n",
    "    You can read more about classes here:\n",
    "    \n",
    "        https://docs.python.org/3/tutorial/classes.html\n",
    "    \n",
    "    We name this particular class 'RobotController'. Everything inside\n",
    "    it must be indented.\n",
    "    \"\"\"\n",
    "    \n",
    "    def __init__(self):\n",
    "        \"\"\"\n",
    "        This function is called once each time we create an instance of\n",
    "        the class as:\n",
    "        \n",
    "            controller = RobotController()\n",
    "        \n",
    "        It is the right place to define variables that will be used by\n",
    "        all the other functions.\n",
    "        \"\"\"\n",
    "        \n",
    "        # Choose time step\n",
    "        self.dt = 0.01 # <--- (1)\n",
    "        \n",
    "        # Define equilibrium point\n",
    "        self.q_e = 2. # <--- (2)\n",
    "        self.v_e = 0. # <--- (3)\n",
    "        self.tau_e = 1. # <--- (4)\n",
    "        \n",
    "        # Define state-space model\n",
    "        self.A = np.array([[0.,1.],\n",
    "                          [0.,0.]]) # <--- (5)\n",
    "        self.B = np.array([[0.],\n",
    "                          [1.]]) # <--- (6)\n",
    "        self.C = np.array([[1.,0.]]) # <--- (7)\n",
    "        \n",
    "        # Define controller and observer gains\n",
    "        self.K = np.array([[5.,1.]]) # <--- (8)\n",
    "        self.L = np.array([[10.],\n",
    "                          [10.]]) # <--- (9)\n",
    "        \n",
    "        # Run the reset function to initialize the state estimate\n",
    "        self.reset()\n",
    "        \n",
    "    \n",
    "    def reset(self):\n",
    "        \"\"\"\n",
    "        This function can be called from another function in the class as:\n",
    "        \n",
    "            self.reset()\n",
    "        \n",
    "        Or, it can be called using an instance 'controller' of the class as:\n",
    "        \n",
    "            controller.reset()\n",
    "        \n",
    "        It initializes the state estimate. This allows us to 'restart' the\n",
    "        observer without creating a whole new instance of the class.\n",
    "        \"\"\"\n",
    "        \n",
    "        # Initialize the state estimate\n",
    "        self.xhat = np.array([[0.],\n",
    "                             [0.]]) # <--- (10)\n",
    "        \n",
    "    \n",
    "    def run(self, q):\n",
    "        \"\"\"\n",
    "        This function can be called from another function in the class as:\n",
    "        \n",
    "            self.run(q)\n",
    "        \n",
    "        Or, it can be called using an instance 'controller' of the class as:\n",
    "        \n",
    "            controller.run(q)\n",
    "        \n",
    "        It applies the controller to choose (and return) a torque, and applies\n",
    "        the observer to update the state estimate with the sensor measurement.\n",
    "        \n",
    "        Note that we apply the controller BEFORE we apply the observer. This is\n",
    "        a choice - we could have applied the controller after the observer. Feel\n",
    "        free to play around with this choice in your own design projects. But,\n",
    "        for homework problems, please do as we suggest here.\n",
    "        \n",
    "        (It is a little bit simpler in any case - if we wanted to apply the\n",
    "        observer first, then we would have to keep track of the input that had\n",
    "        been chosen at the previous time step.)\n",
    "        \"\"\"\n",
    "        \n",
    "        # Apply controller\n",
    "        u = -self.K@self.xhat # <--- (11) Don't forget to use the state estimate and not the state!\n",
    "        \n",
    "        # Convert input to actuator commands\n",
    "        tau = u[0.,0.] + self.tau_e # <--- (12) Don't forget to extract the torque and add the equilibrium value!\n",
    "        \n",
    "        # Define output\n",
    "        y = np.array([[q-self.q_e]]) #self.C@self.xhat # <--- (13) Don't forget that this is defined using the sensor measurement q\n",
    "                        #           and not the state estimate!\n",
    "        \n",
    "        # Apply observer to update state estimate\n",
    "        self.xhat += self.dt*(self.A@self.xhat + self.B@u - L@(C@self.xhat - y)) #0. # <--- (14) Note the syntax: \"+=\" means that we are adding something to\n",
    "                        #           self.xhat - this is equivalent to saying:\n",
    "                        #\n",
    "                        #               self.xhat = self.xhat + 0.\n",
    "        \n",
    "        return float(tau)"
   ]
  },
  {
   "cell_type": "code",
   "execution_count": null,
   "metadata": {},
   "outputs": [],
   "source": [
    "class RobotController:\n",
    "    \"\"\"\n",
    "    A 'class' allows functions to share a set of variables without\n",
    "    having to make those variables 'global'.\n",
    "    \n",
    "    Our control design has a bunch of variables (the time step, the\n",
    "    equilibrium point, the state-space model, the controller and observer\n",
    "    gains, and the state estimate) that need to be shared among several\n",
    "    different functions (to initialize everything, to reset the state\n",
    "    estimate, and to run the controller and observer), so the use of a\n",
    "    class is helpful.\n",
    "        \n",
    "    You can read more about classes here:\n",
    "    \n",
    "        https://docs.python.org/3/tutorial/classes.html\n",
    "    \n",
    "    We name this particular class 'RobotController'. Everything inside\n",
    "    it must be indented.\n",
    "    \"\"\"\n",
    "    \n",
    "    def __init__(self):\n",
    "        \"\"\"\n",
    "        This function is called once each time we create an instance of\n",
    "        the class as:\n",
    "        \n",
    "            controller = RobotController()\n",
    "        \n",
    "        It is the right place to define variables that will be used by\n",
    "        all the other functions.\n",
    "        \"\"\"\n",
    "        \n",
    "        # Choose time step\n",
    "        self.dt = 0.01 # <--- (1)\n",
    "        \n",
    "        # Define equilibrium point\n",
    "        self.q_e = 2. # <--- (2)\n",
    "        self.v_e = 0. # <--- (3)\n",
    "        self.tau_e = 1. # <--- (4)\n",
    "        \n",
    "        # Define state-space model\n",
    "        self.A = np.array([[0.,1.],\n",
    "                          [0.,0.]]) # <--- (5)\n",
    "        self.B = np.array([[0.],\n",
    "                          [1.]]) # <--- (6)\n",
    "        self.C = np.array([[1.,0.]]) # <--- (7)\n",
    "        \n",
    "        # Define controller and observer gains\n",
    "        self.K = np.array([[5.,1.]]) # <--- (8)\n",
    "        self.L = np.array([[10.],\n",
    "                          [10.]]) # <--- (9)\n",
    "        \n",
    "        # Run the reset function to initialize the state estimate\n",
    "        self.reset()\n",
    "        \n",
    "    \n",
    "    def reset(self):\n",
    "        \"\"\"\n",
    "        This function can be called from another function in the class as:\n",
    "        \n",
    "            self.reset()\n",
    "        \n",
    "        Or, it can be called using an instance 'controller' of the class as:\n",
    "        \n",
    "            controller.reset()\n",
    "        \n",
    "        It initializes the state estimate. This allows us to 'restart' the\n",
    "        observer without creating a whole new instance of the class.\n",
    "        \"\"\"\n",
    "        \n",
    "        # Initialize the state estimate\n",
    "        self.xhat = np.array([[0.],\n",
    "                             [0.]]) # <--- (10)\n",
    "        \n",
    "    \n",
    "    def run(self, q):\n",
    "        \"\"\"\n",
    "        This function can be called from another function in the class as:\n",
    "        \n",
    "            self.run(q)\n",
    "        \n",
    "        Or, it can be called using an instance 'controller' of the class as:\n",
    "        \n",
    "            controller.run(q)\n",
    "        \n",
    "        It applies the controller to choose (and return) a torque, and applies\n",
    "        the observer to update the state estimate with the sensor measurement.\n",
    "        \n",
    "        Note that we apply the controller BEFORE we apply the observer. This is\n",
    "        a choice - we could have applied the controller after the observer. Feel\n",
    "        free to play around with this choice in your own design projects. But,\n",
    "        for homework problems, please do as we suggest here.\n",
    "        \n",
    "        (It is a little bit simpler in any case - if we wanted to apply the\n",
    "        observer first, then we would have to keep track of the input that had\n",
    "        been chosen at the previous time step.)\n",
    "        \"\"\"\n",
    "        \n",
    "        # Apply controller\n",
    "        u = -self.K@self.xhat # <--- (11) Don't forget to use the state estimate and not the state!\n",
    "        \n",
    "        # Convert input to actuator commands\n",
    "        tau = u[0,0] + self.tau_e # <--- (12) Don't forget to extract the torque and add the equilibrium value!\n",
    "        \n",
    "        # Define output\n",
    "        y = np.array([[q-self.q_e]]) #self.C@self.xhat # <--- (13) Don't forget that this is defined using the sensor measurement q\n",
    "                        #           and not the state estimate!\n",
    "        \n",
    "        # Apply observer to update state estimate\n",
    "        self.xhat += self.dt*(self.A@self.xhat + self.B@u - self.L@(self.C@self.xhat - y)) #0. # <--- (14) Note the syntax: \"+=\" means that we are adding something to\n",
    "                        #           self.xhat - this is equivalent to saying:\n",
    "                        #\n",
    "                        #               self.xhat = self.xhat + 0.\n",
    "        \n",
    "        return float(tau)"
   ]
  },
  {
   "cell_type": "code",
   "execution_count": null,
   "metadata": {},
   "outputs": [],
   "source": []
  }
 ],
 "metadata": {
  "kernelspec": {
   "display_name": "Python 3",
   "language": "python",
   "name": "python3"
  },
  "language_info": {
   "codemirror_mode": {
    "name": "ipython",
    "version": 3
   },
   "file_extension": ".py",
   "mimetype": "text/x-python",
   "name": "python",
   "nbconvert_exporter": "python",
   "pygments_lexer": "ipython3",
   "version": "3.8.3"
  }
 },
 "nbformat": 4,
 "nbformat_minor": 4
}
