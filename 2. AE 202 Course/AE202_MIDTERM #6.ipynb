{
 "cells": [
  {
   "cell_type": "code",
   "execution_count": 4,
   "metadata": {},
   "outputs": [
    {
     "name": "stdout",
     "output_type": "stream",
     "text": [
      "314.09300865737754\n",
      "-344.6362608763101\n",
      "\n",
      "194.30993619770766\n",
      "\n",
      "508.4029448550852\n"
     ]
    }
   ],
   "source": [
    "#Problem 6\n",
    "\n",
    "import pandas as pd\n",
    "import matplotlib.pyplot as plt\n",
    "import random\n",
    "import numpy as np\n",
    "import math as m\n",
    "\n",
    "hG = 1600 #m\n",
    "hobs = 60 #ft\n",
    "w = 40000 #N\n",
    "sref = 115 #m^2\n",
    "b = 25 #m\n",
    "e = 0.87 \n",
    "T = 4000*2\n",
    "Cd0 = 0.024\n",
    "clmax = 1.08\n",
    "mu = 0.018\n",
    "H = 2.2 #m\n",
    "g = 9.81 #m\n",
    "rho = 1.0476 #kg/m^3 \n",
    "AR = (b**2)/sref\n",
    "\n",
    "phi = ((16*(H/b))**2)/(1+((16*(H/b))**2))\n",
    "Vav = 0.7*1.22*m.sqrt((2*w)/(rho*sref*clmax))\n",
    "Vto = 1.22*m.sqrt((2*w)/(rho*sref*clmax))\n",
    "cD = Cd0 + (phi*((clmax**2)/(m.pi*e*AR)))\n",
    "D = .5*rho*(Vav**2)*sref*cD\n",
    "L = .5*rho*(Vav**2)*sref*clmax\n",
    "Slo = (1.44*w**2)/(g*rho*sref*clmax*(T-(D+(mu*(w-L)))))\n",
    "n = L/w\n",
    "R = (Vto**2)/(g*(n-1))\n",
    "\n",
    "\n",
    "print(Slo)\n",
    "print(R)\n",
    "print(     )\n",
    "\n",
    "#solve for s obstacle\n",
    "theta = m.acos((R+hobs)/R)\n",
    "s = (R+hobs)*m.tan(theta)\n",
    "print(-s)\n",
    "Stot = Slo + -s\n",
    "print(   )\n",
    "print(Stot)\n"
   ]
  },
  {
   "cell_type": "code",
   "execution_count": 16,
   "metadata": {},
   "outputs": [
    {
     "name": "stdout",
     "output_type": "stream",
     "text": [
      "0.5989936875998741\n"
     ]
    }
   ],
   "source": [
    "print(s)"
   ]
  },
  {
   "cell_type": "code",
   "execution_count": 6,
   "metadata": {},
   "outputs": [
    {
     "data": {
      "text/plain": [
       "21.1760191671314"
      ]
     },
     "execution_count": 6,
     "metadata": {},
     "output_type": "execute_result"
    }
   ],
   "source": [
    "194.30993619770766"
   ]
  },
  {
   "cell_type": "code",
   "execution_count": null,
   "metadata": {},
   "outputs": [],
   "source": [
    "508.4029448550852"
   ]
  }
 ],
 "metadata": {
  "kernelspec": {
   "display_name": "Python 3",
   "language": "python",
   "name": "python3"
  },
  "language_info": {
   "codemirror_mode": {
    "name": "ipython",
    "version": 3
   },
   "file_extension": ".py",
   "mimetype": "text/x-python",
   "name": "python",
   "nbconvert_exporter": "python",
   "pygments_lexer": "ipython3",
   "version": "3.8.3"
  }
 },
 "nbformat": 4,
 "nbformat_minor": 4
}
