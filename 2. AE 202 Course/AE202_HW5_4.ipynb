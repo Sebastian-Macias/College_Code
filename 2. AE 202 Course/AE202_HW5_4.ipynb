{
 "cells": [
  {
   "cell_type": "code",
   "execution_count": 1,
   "metadata": {},
   "outputs": [
    {
     "name": "stdout",
     "output_type": "stream",
     "text": [
      "total delta V = 0.6646071110568759\n",
      "Transfer time = 1.319113895828037\n",
      "Final mass =  1128.4104660944492\n",
      "9051.8\n",
      "0.3415307693169174\n",
      "0.3230763417399585\n"
     ]
    }
   ],
   "source": [
    "import pandas as pd\n",
    "import matplotlib.pyplot as plt\n",
    "import random\n",
    "import numpy as np\n",
    "import math as m\n",
    "import numpy.linalg as la\n",
    "import scipy.linalg as sla\n",
    "\n",
    "#Problem 4\n",
    "\n",
    "h1 = 2000 #km\n",
    "h2 = 4000 #km\n",
    "muV = 324589.9 #km^3/s^2\n",
    "rv = 6051.8 #km\n",
    "m1 = 1500 #kg\n",
    "ISP = 238 #s\n",
    "g = 9.81 #m/s^2 \n",
    "\n",
    "r1 = rv+h1\n",
    "r2 = rv+h2\n",
    "vc1 = m.sqrt(muV/r1) \n",
    "E1 = -muV/(2*r1)\n",
    "vc2 = m.sqrt(muV/r2)\n",
    "E2 = -muV/(2*r2)\n",
    "\n",
    "a = (r1+r2)/2\n",
    "\n",
    "deltaV1 = m.sqrt(muV*((2/r1) - (1/a))) - m.sqrt(muV/r1)\n",
    "deltaV2 = m.sqrt(muV/r2) - m.sqrt(muV*((2/r2) - (1/a)))\n",
    "\n",
    "deltaVtot = deltaV1 + deltaV2\n",
    "print(\"total delta V =\", deltaVtot)\n",
    "\n",
    "ToF = m.pi*m.sqrt((a**3)/muV)\n",
    "print(\"Transfer time =\", ToF * 1/3600)\n",
    "\n",
    "mf = m1/(m.exp(deltaVtot*1000/(ISP*g))) #V convert km to m\n",
    "print(\"Final mass = \", mf)\n",
    "\n",
    "print(a)\n",
    "print(deltaV1)\n",
    "print(deltaV2)"
   ]
  },
  {
   "cell_type": "code",
   "execution_count": 3,
   "metadata": {},
   "outputs": [
    {
     "data": {
      "text/plain": [
       "4"
      ]
     },
     "execution_count": 3,
     "metadata": {},
     "output_type": "execute_result"
    }
   ],
   "source": [
    "total delta V = 0.6646071110568759\n",
    "Transfer time = 1.319113895828037\n",
    "Final mass =  1128.4104660944492\n",
    "9051.8\n",
    "0.3415307693169174\n",
    "0.3230763417399585"
   ]
  },
  {
   "cell_type": "code",
   "execution_count": null,
   "metadata": {},
   "outputs": [],
   "source": []
  }
 ],
 "metadata": {
  "kernelspec": {
   "display_name": "Python 3",
   "language": "python",
   "name": "python3"
  },
  "language_info": {
   "codemirror_mode": {
    "name": "ipython",
    "version": 3
   },
   "file_extension": ".py",
   "mimetype": "text/x-python",
   "name": "python",
   "nbconvert_exporter": "python",
   "pygments_lexer": "ipython3",
   "version": "3.8.3"
  }
 },
 "nbformat": 4,
 "nbformat_minor": 4
}
