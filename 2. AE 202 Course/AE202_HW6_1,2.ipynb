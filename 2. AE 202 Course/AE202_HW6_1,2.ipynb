{
 "cells": [
  {
   "cell_type": "code",
   "execution_count": 2,
   "metadata": {},
   "outputs": [
    {
     "name": "stdout",
     "output_type": "stream",
     "text": [
      "deltaV1 = 0.6485363404789153\n",
      "deltaV2 = 0.7152578236789964\n",
      "deltaV = 1.3637941641579117\n",
      "deltaV = 2.1735676339952397\n",
      "deltaVtotal = 3.5373617981531513\n",
      "Time of flight = 1.2069164527668292\n",
      "\n",
      "deltaV1 = 0.6749198405792072\n",
      "deltaV2 = 0.51166100343029\n",
      "deltaV = 1.1865808440094971\n",
      "deltaV = 2.9407091518759128\n",
      "deltaVtotal = 4.12728999588541\n",
      "Time of flight = 0.94952955761342\n"
     ]
    }
   ],
   "source": [
    "import pandas as pd\n",
    "import matplotlib.pyplot as plt\n",
    "import random\n",
    "import numpy as np\n",
    "import math as m\n",
    "import numpy.linalg as la\n",
    "import scipy.linalg as sla\n",
    "\n",
    "#problem 1\n",
    "#a\n",
    "hp = 400 #km\n",
    "ha = 700 #km\n",
    "i0 = 28.5 * m.pi/180 #deg to rad\n",
    "a = 10000 #km\n",
    "e = 0.15\n",
    "i1 = 51.6 * m.pi/180 #deg to rad\n",
    "\n",
    "muE = 3.986*10**5 #km^3/s^2\n",
    "re = 6371 #km\n",
    "\n",
    "rp1 = hp + re\n",
    "ra1 = ha + re\n",
    "\n",
    "P = a*(1-e**2)\n",
    "rp2 = P/(1+e)\n",
    "ra2 = P/(1-e)\n",
    "\n",
    "a1 = (rp1+ra1)/2\n",
    "a2 = (rp2+ra2)/2\n",
    "at = (rp1+ra2)/2\n",
    "\n",
    "E1 = -muE/(2*a1)\n",
    "E2 = -muE/(2*a2)\n",
    "Et = - muE/(2*((a1+a2)/2))\n",
    "\n",
    "deltaV1 = m.sqrt(2*((muE/rp1)+Et)) - m.sqrt(2*((muE/rp1)+E1))\n",
    "deltaV2 = m.sqrt(2*((muE/ra2)+E2)) - m.sqrt(2*((muE/ra2)+Et))\n",
    "print(\"deltaV1 =\",deltaV1)\n",
    "print(\"deltaV2 =\", deltaV2)\n",
    "\n",
    "deltaVtot = deltaV1 + deltaV2 #psuedo-Hohmann\n",
    "print(\"deltaV =\", deltaVtot)\n",
    "\n",
    "deltaVtot1 = 2*m.sqrt(2*((muE/ra2)+E2))*m.sin((i1-i0)/2) #simple plane change\n",
    "print(\"deltaV =\",deltaVtot1)\n",
    "\n",
    "deltaVtotal = deltaVtot+deltaVtot1\n",
    "print(\"deltaVtotal =\", deltaVtotal)\n",
    "\n",
    "Tof = m.pi*m.sqrt((((rp1+ra2)/2)**3)/muE)\n",
    "print(\"Time of flight =\", Tof/3600)\n",
    "\n",
    "print(    )\n",
    "\n",
    "#b\n",
    "deltaV1 = m.sqrt(2*((muE/ra1)+Et)) - m.sqrt(2*((muE/ra1)+E1))\n",
    "deltaV2 = m.sqrt(2*((muE/rp2)+E2)) - m.sqrt(2*((muE/rp2)+Et))\n",
    "print(\"deltaV1 =\",deltaV1)\n",
    "print(\"deltaV2 =\", deltaV2)\n",
    "\n",
    "deltaVtot = deltaV1 + deltaV2 #psuedo-Hohmann\n",
    "print(\"deltaV =\", deltaVtot)\n",
    "\n",
    "deltaVtot1 = 2*m.sqrt(2*((muE/rp2)+E2))*m.sin((i1-i0)/2) #simple plane change\n",
    "print(\"deltaV =\",deltaVtot1)\n",
    "\n",
    "deltaVtotal = deltaVtot+deltaVtot1\n",
    "print(\"deltaVtotal =\", deltaVtotal)\n",
    "\n",
    "Tof = m.pi*m.sqrt((((ra1+rp2)/2)**3)/muE)\n",
    "print(\"Time of flight =\", Tof/3600)"
   ]
  },
  {
   "cell_type": "code",
   "execution_count": 3,
   "metadata": {},
   "outputs": [
    {
     "data": {
      "image/png": "[encoded data removed]",
      "text/plain": [
       "<Figure size 432x288 with 1 Axes>"
      ]
     },
     "metadata": {
      "needs_background": "light"
     },
     "output_type": "display_data"
    },
    {
     "name": "stdout",
     "output_type": "stream",
     "text": [
      "max PI* of Option 1 = 0.021547569335115643\n",
      "max PI* of Option 2 = 0.025925110283517266\n"
     ]
    }
   ],
   "source": [
    "import pandas as pd\n",
    "import matplotlib.pyplot as plt\n",
    "import random\n",
    "import numpy as np\n",
    "import math as m\n",
    "import numpy.linalg as la\n",
    "import scipy.linalg as sla\n",
    "\n",
    "#problem 2\n",
    "#a\n",
    "ISP11 = 290 #s\n",
    "ISP12 = 340 #s\n",
    "ISP21 = 370 #s\n",
    "ISP22 = 450 #s\n",
    "E1 = 0.15\n",
    "E2 = 0.25\n",
    "g = 9.81 #m/s^2\n",
    "\n",
    "deltaV1 = np.linspace(0,8*1000,10000)\n",
    "deltaV2 = (8*1000)-deltaV1\n",
    "\n",
    "def PIstar(deltaV1,deltaV2,ISP1,ISP2,E):\n",
    "    PI1 = (np.exp(-deltaV1/(ISP1*g))-E)/(1-E)\n",
    "    PI2 = (np.exp(-deltaV2/(ISP2*g))-E)/(1-E)\n",
    "    PIstar = PI1*PI2\n",
    "    return PIstar\n",
    "\n",
    "plt.plot(deltaV1, PIstar(deltaV1,deltaV2,ISP11,ISP12,E1))\n",
    "plt.plot(deltaV1, PIstar(deltaV1,deltaV2,ISP21,ISP22,E2))\n",
    "plt.xlabel(\"Delta V (m/s)\")\n",
    "plt.ylabel('PIstar (PIstar)')\n",
    "#plt.ylim(0,.03)\n",
    "plt.title('Delta V (m/s) vs PIstar')\n",
    "plt.show()\n",
    "\n",
    "#b\n",
    "print(\"max PI* of Option 1 =\",np.max(PIstar(deltaV1,deltaV2,ISP11,ISP12,E1)))\n",
    "print(\"max PI* of Option 2 =\",np.max(PIstar(deltaV1,deltaV2,ISP21,ISP22,E2)))"
   ]
  },
  {
   "cell_type": "code",
   "execution_count": 12,
   "metadata": {},
   "outputs": [
    {
     "name": "stdout",
     "output_type": "stream",
     "text": [
      "total delta V = 3.7108639307204117\n"
     ]
    }
   ],
   "source": [
    "#Problem 4\n",
    "import pandas as pd\n",
    "import matplotlib.pyplot as plt\n",
    "import random\n",
    "import numpy as np\n",
    "import math as m\n",
    "import numpy.linalg as la\n",
    "import scipy.linalg as sla\n",
    "\n",
    "#Problem 4\n",
    "\n",
    "h1 = 300 #km\n",
    "h2 = 27000 #km\n",
    "muE = 3.986*10**5 #km^3/s^2\n",
    "rv = 6371 #km\n",
    "m1 = 1500 #kg\n",
    "ISP = 238 #s\n",
    "g = 9.81 #m/s^2 \n",
    "\n",
    "r1 = rv+h1\n",
    "r2 = rv+h2\n",
    "vc1 = m.sqrt(muE/r1) \n",
    "E1 = -muE/(2*r1)\n",
    "vc2 = m.sqrt(muE/r2)\n",
    "E2 = -muE/(2*r2)\n",
    "\n",
    "a = (r1+r2)/2\n",
    "\n",
    "deltaV1 = m.sqrt(muE*((2/r1) - (1/a))) - m.sqrt(muE/r1)\n",
    "deltaV2 = m.sqrt(muE/r2) - m.sqrt(muE*((2/r2) - (1/a)))\n",
    "\n",
    "deltaVtot = deltaV1 + deltaV2\n",
    "print(\"total delta V =\", deltaVtot)\n",
    "\n"
   ]
  },
  {
   "cell_type": "code",
   "execution_count": null,
   "metadata": {},
   "outputs": [],
   "source": []
  }
 ],
 "metadata": {
  "kernelspec": {
   "display_name": "Python 3",
   "language": "python",
   "name": "python3"
  },
  "language_info": {
   "codemirror_mode": {
    "name": "ipython",
    "version": 3
   },
   "file_extension": ".py",
   "mimetype": "text/x-python",
   "name": "python",
   "nbconvert_exporter": "python",
   "pygments_lexer": "ipython3",
   "version": "3.8.3"
  }
 },
 "nbformat": 4,
 "nbformat_minor": 4
}
