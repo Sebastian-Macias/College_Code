{
 "cells": [
  {
   "cell_type": "code",
   "execution_count": 14,
   "metadata": {},
   "outputs": [
    {
     "name": "stdout",
     "output_type": "stream",
     "text": [
      "458.78204985372\n",
      "73762.19621047242\n",
      "4827.063053527581\n",
      "56.188830570239354\n"
     ]
    }
   ],
   "source": [
    "import pandas as pd\n",
    "import matplotlib.pyplot as plt\n",
    "import random\n",
    "import numpy as np\n",
    "import math as m\n",
    "\n",
    "sref = 47\n",
    "AR = 6.5\n",
    "e = 0.87\n",
    "w = 103047\n",
    "cd0 = 0.032\n",
    "T = 2*39598\n",
    "clmax = 0.8\n",
    "h = 1.3\n",
    "mu = 0.02\n",
    "g = 9.81\n",
    "rho = 1.225\n",
    "b = m.sqrt(AR/sref)\n",
    "\n",
    "vstall = m.sqrt((2*w)/(1.225*47*0.8))\n",
    "v = 0.7*1.2*vstall\n",
    "phi = ((16*(h/b))**2)/(1+(16*(h/b))**2)\n",
    "L = 0.5*rho*(v**2)*sref*clmax\n",
    "\n",
    "D = 4827.063053527581\n",
    "slo = (1.44*(w**2)) / (g*rho*sref*clmax*(T-(D+mu*(w-L))))\n",
    "print(slo)\n",
    "\n",
    "HG = T-(D+(mu*(w-L)))\n",
    "print(HG)\n",
    "print(D)\n",
    "print(v)"
   ]
  },
  {
   "cell_type": "code",
   "execution_count": 2,
   "metadata": {},
   "outputs": [
    {
     "data": {
      "text/plain": [
       "4"
      ]
     },
     "execution_count": 2,
     "metadata": {},
     "output_type": "execute_result"
    }
   ],
   "source": [
    "458.78204985372\n"
   ]
  },
  {
   "cell_type": "code",
   "execution_count": 20,
   "metadata": {},
   "outputs": [
    {
     "name": "stdout",
     "output_type": "stream",
     "text": [
      "70.43902439024392\n",
      "2.465365853658537\n",
      "-12.679024390243905\n"
     ]
    }
   ],
   "source": [
    "P = 98000\n",
    "R = 287\n",
    "T = 280\n",
    "rho = P/(R*T)\n",
    "cl = 0.2\n",
    "cd = 0.007\n",
    "cm = -0.09\n",
    "v = 38\n",
    "c = 0.4\n",
    "sref = c*1\n",
    "\n",
    "L = 0.5*rho*(v**2)*sref*cl\n",
    "D = 0.5*rho*(v**2)*sref*cd\n",
    "M = 0.5*rho*(v**2)*sref*(c)*cm\n",
    "\n",
    "print(L)\n",
    "print(D)\n",
    "print(M)\n"
   ]
  },
  {
   "cell_type": "code",
   "execution_count": 19,
   "metadata": {},
   "outputs": [
    {
     "data": {
      "text/plain": [
       "-10.565853658536588"
      ]
     },
     "execution_count": 19,
     "metadata": {},
     "output_type": "execute_result"
    }
   ],
   "source": [
    "70.43902439024392\n",
    "2.465365853658537\n",
    "-12.679024390243905\n"
   ]
  },
  {
   "cell_type": "code",
   "execution_count": null,
   "metadata": {},
   "outputs": [],
   "source": []
  }
 ],
 "metadata": {
  "kernelspec": {
   "display_name": "Python 3",
   "language": "python",
   "name": "python3"
  },
  "language_info": {
   "codemirror_mode": {
    "name": "ipython",
    "version": 3
   },
   "file_extension": ".py",
   "mimetype": "text/x-python",
   "name": "python",
   "nbconvert_exporter": "python",
   "pygments_lexer": "ipython3",
   "version": "3.8.3"
  }
 },
 "nbformat": 4,
 "nbformat_minor": 4
}
