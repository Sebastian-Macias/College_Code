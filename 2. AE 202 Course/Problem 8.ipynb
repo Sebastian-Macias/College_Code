{
 "cells": [
  {
   "cell_type": "code",
   "execution_count": 7,
   "metadata": {},
   "outputs": [
    {
     "name": "stdout",
     "output_type": "stream",
     "text": [
      "0\n",
      "1\n",
      "2\n",
      "4\n",
      "8\n",
      "16\n",
      "32\n",
      "64\n",
      "128\n",
      "256\n",
      "512\n",
      "1024\n",
      "2048\n",
      "4096\n",
      "8192\n",
      "16384\n",
      "32768\n",
      "65536\n",
      "131072\n",
      "262144\n",
      "524288\n",
      "1048576\n",
      "2097152\n"
     ]
    }
   ],
   "source": [
    "def Fib(number):\n",
    "    \n",
    "    if (number <= 1):           # base cases\n",
    "        return number;  \n",
    "    \n",
    "    else:                                   #recursive case\n",
    "        return(Fib(n-1) + Fib(number-2))    #function(n - 1)+ function(n - 2 )\n",
    "    \n",
    "sum = 2\n",
    "\n",
    "number = 2;\n",
    "\n",
    "\n",
    "for i in range(4000000):\n",
    "    \n",
    "    print(Fib(i, sum))\n",
    "        "
   ]
  },
  {
   "cell_type": "code",
   "execution_count": null,
   "metadata": {},
   "outputs": [],
   "source": []
  }
 ],
 "metadata": {
  "kernelspec": {
   "display_name": "Python 3",
   "language": "python",
   "name": "python3"
  },
  "language_info": {
   "codemirror_mode": {
    "name": "ipython",
    "version": 3
   },
   "file_extension": ".py",
   "mimetype": "text/x-python",
   "name": "python",
   "nbconvert_exporter": "python",
   "pygments_lexer": "ipython3",
   "version": "3.8.3"
  }
 },
 "nbformat": 4,
 "nbformat_minor": 4
}
