{
 "cells": [
  {
   "cell_type": "code",
   "execution_count": 2,
   "metadata": {},
   "outputs": [
    {
     "name": "stdout",
     "output_type": "stream",
     "text": [
      "997.9302973599832\n",
      "0.3673603266378798\n",
      "4.1858048876484855\n"
     ]
    }
   ],
   "source": [
    "#Problem 8\n",
    "\n",
    "import pandas as pd\n",
    "import matplotlib.pyplot as plt\n",
    "import random\n",
    "import numpy as np\n",
    "import math as m\n",
    "\n",
    "\n",
    "g = 32.17405 #ft/s^2\n",
    "w = 23166 #lbf \n",
    "rho = 0.002377 #slug/ft^3\n",
    "sref = 505.9 #ft\n",
    "v = 366.6 #ft/s\n",
    "cl = 1.2\n",
    "\n",
    "r = (2 / (rho*cl*g))*(w/sref) #ft\n",
    "print(r)\n",
    "\n",
    "#8b\n",
    "\n",
    "n = .5*rho*(v**2)*(cl/(w/sref))\n",
    "omega = g*m.sqrt((rho*cl*n)/(2*(w/sref))) #ft/s\n",
    "print(omega)\n",
    "print(n)"
   ]
  },
  {
   "cell_type": "code",
   "execution_count": 3,
   "metadata": {},
   "outputs": [
    {
     "name": "stdout",
     "output_type": "stream",
     "text": [
      "13.784176569135736\n"
     ]
    }
   ],
   "source": [
    "#9 \n",
    "cd0 = 0.025\n",
    "AR = 6.72\n",
    "e = 0.9\n",
    "\n",
    "LD = ((cd0*m.pi*e*AR)**.5)/(2*cd0)\n",
    "print(LD)"
   ]
  },
  {
   "cell_type": "code",
   "execution_count": 10,
   "metadata": {},
   "outputs": [
    {
     "name": "stdout",
     "output_type": "stream",
     "text": [
      "299.44229494178006\n",
      "748.6057373544502\n",
      "0.41151684606748806\n",
      "22912.878474779198\n",
      "39587.12152522079\n",
      "62499.99999999999\n"
     ]
    }
   ],
   "source": [
    "#10\n",
    "M = 2.5\n",
    "R = 287 #j/kg*k\n",
    "y = 1.4\n",
    "h = 10000\n",
    "T = 223.16\n",
    "\n",
    "a = m.sqrt(y*R*T)\n",
    "print(a)\n",
    "V =a*M\n",
    "print(V)\n",
    "\n",
    "mu = m.asin(1/M)\n",
    "print(mu)\n",
    "d = h/m.tan(mu)\n",
    "print(d)\n",
    "\n",
    "hypotenuse = m.sqrt((h**2)+(d**2))\n",
    "t = hypotenuse/a\n",
    "dist = V*t \n",
    "finaldist = dist - d\n",
    "print(finaldist)\n",
    "print(dist)\n"
   ]
  },
  {
   "cell_type": "code",
   "execution_count": 2,
   "metadata": {},
   "outputs": [],
   "source": []
  },
  {
   "cell_type": "code",
   "execution_count": null,
   "metadata": {},
   "outputs": [],
   "source": []
  }
 ],
 "metadata": {
  "kernelspec": {
   "display_name": "Python 3",
   "language": "python",
   "name": "python3"
  },
  "language_info": {
   "codemirror_mode": {
    "name": "ipython",
    "version": 3
   },
   "file_extension": ".py",
   "mimetype": "text/x-python",
   "name": "python",
   "nbconvert_exporter": "python",
   "pygments_lexer": "ipython3",
   "version": "3.8.3"
  }
 },
 "nbformat": 4,
 "nbformat_minor": 4
}
