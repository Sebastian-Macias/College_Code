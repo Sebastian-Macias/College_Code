{
 "cells": [
  {
   "cell_type": "code",
   "execution_count": null,
   "metadata": {},
   "outputs": [],
   "source": [
    "import pandas as pd\n",
    "import matplotlib.pyplot as plt\n",
    "import random\n",
    "import numpy as np\n",
    "import math as m\n",
    "\n",
    "#8a\n",
    "g = 32.17405 #ft/s\n",
    "w = 23166 #lbf \n",
    "rho = 0.002377 #slug/ft^3\n",
    "sref = 505.9 #ft\n",
    "v = 366.6 #ft/s\n",
    "cl = 1.2\n",
    "\n",
    "r = (2 / (rho*cl*g))*(w/sref)\n",
    "print(r)\n",
    "\n",
    "#8b\n",
    "\n",
    "L = .5*rho*(v**2)*sref*cl\n",
    "n = .5*rho*(v**2)*(cl/(w/sref))\n",
    "omega = g*m.sqrt((rho*cl*n)/(2*(w/sref)))\n",
    "print(omega)"
   ]
  },
  {
   "cell_type": "code",
   "execution_count": null,
   "metadata": {},
   "outputs": [],
   "source": [
    "#9 \n",
    "cd0 = 0.025\n",
    "AR = 0.72\n",
    "e = 0.9\n",
    "\n",
    "LD = ((cd0*m.pi*e*AR)**.5)/(2*cd0)\n",
    "print(LD)"
   ]
  },
  {
   "cell_type": "code",
   "execution_count": null,
   "metadata": {},
   "outputs": [],
   "source": [
    "#10\n",
    "M = 2.5\n",
    "R = 287\n",
    "T = 223.16\n",
    "y = 1.4\n",
    "\n",
    "a = m.sqrt(y*R*T)\n",
    "print(a)\n",
    "V =a*M\n",
    "print(V)"
   ]
  },
  {
   "cell_type": "code",
   "execution_count": null,
   "metadata": {},
   "outputs": [],
   "source": [
    "2+2"
   ]
  },
  {
   "cell_type": "code",
   "execution_count": null,
   "metadata": {},
   "outputs": [],
   "source": []
  },
  {
   "cell_type": "code",
   "execution_count": null,
   "metadata": {},
   "outputs": [],
   "source": []
  },
  {
   "cell_type": "code",
   "execution_count": null,
   "metadata": {},
   "outputs": [],
   "source": []
  }
 ],
 "metadata": {
  "kernelspec": {
   "display_name": "Python 3",
   "language": "python",
   "name": "python3"
  },
  "language_info": {
   "codemirror_mode": {
    "name": "ipython",
    "version": 3
   },
   "file_extension": ".py",
   "mimetype": "text/x-python",
   "name": "python",
   "nbconvert_exporter": "python",
   "pygments_lexer": "ipython3",
   "version": "3.8.3"
  }
 },
 "nbformat": 4,
 "nbformat_minor": 4
}
