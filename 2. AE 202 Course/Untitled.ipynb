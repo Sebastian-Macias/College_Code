{
 "cells": [
  {
   "cell_type": "code",
   "execution_count": null,
   "metadata": {},
   "outputs": [],
   "source": [
    "import pandas as pd \n",
    "import matplotlib.pylab as plt \n",
    "import numpy as np \n",
    " \n",
    "crime_data = pd.read_csv('SacramentocrimeJanuary2006 (1).csv') \n",
    " \n",
    "#dropping null value columns to avoid errors \n",
    "crime_data.dropna(inplace = True)\n",
    "print()\n",
    "\n",
    "# new data fram with split value columns \n",
    "new = crime_data[\"cdatetime\"].str.split(\" \", n = 1, expand = True) \n",
    " \n",
    "#separate date column \n",
    "crime_data[\"date\"]= new[0] \n",
    " \n",
    "#separate time column \n",
    "crime_data[\"time\"]= new[1] \n",
    " \n",
    "#dropping old name column \n",
    "crime_data.drop(columns = [\"cdatetime\"], inplace = True) \n",
    " \n",
    "#rearrange the columns to have date then time then the rest \n",
    "cols = list(crime_data.columns.values) \n",
    "crime_data = crime_data[[cols[-2]] + [cols[-1]] + cols[1:8]] \n",
    " \n",
    "#abc is our “new” new to split date into mm/dd/yy \n",
    "abc = crime_data['date'].str.split('/', n = 2, expand = True) \n",
    " \n",
    "crime_data['month']= abc[0] \n",
    "crime_data['day'] = abc[1] \n",
    "crime_data['year'] = abc[2] \n",
    " \n",
    " "
   ]
  },
  {
   "cell_type": "code",
   "execution_count": null,
   "metadata": {},
   "outputs": [],
   "source": []
  }
 ],
 "metadata": {
  "kernelspec": {
   "display_name": "Python 3",
   "language": "python",
   "name": "python3"
  },
  "language_info": {
   "codemirror_mode": {
    "name": "ipython",
    "version": 3
   },
   "file_extension": ".py",
   "mimetype": "text/x-python",
   "name": "python",
   "nbconvert_exporter": "python",
   "pygments_lexer": "ipython3",
   "version": "3.8.3"
  }
 },
 "nbformat": 4,
 "nbformat_minor": 4
}
