{
 "cells": [
  {
   "cell_type": "code",
   "execution_count": 3,
   "metadata": {},
   "outputs": [
    {
     "name": "stdout",
     "output_type": "stream",
     "text": [
      "4613732\n"
     ]
    }
   ],
   "source": [
    "fib_numbers = [0, 1, 1]                     # we predefine the first 3 terms of our fib sequence\n",
    "\n",
    "\n",
    "i = 2                                       # we start at 2 because we have 3 terms in our list\n",
    "\n",
    "while(fib_numbers[i] < 4000000):            # we keep calculating the fib numbers until they are less than 4 mil\n",
    "    \n",
    "    i = i + 1                                                     # we index our i in order to access the next term of the list\n",
    "    fib_numbers.append(fib_numbers[i - 1] + fib_numbers[i - 2])   # we sum the n-1 & n-2 term of our list\n",
    "\n",
    "# list.append(19) --> [0,1,1,19]\n",
    "    \n",
    "# part of code to calculate the sum\n",
    "\n",
    "sum = 0         # initialize sum\n",
    "j = 0           # initialize our new index fib\n",
    "\n",
    "# to prove a number is even, modulo 2 and check if there is a remainder\n",
    "\n",
    "\n",
    "for j in range(len(fib_numbers)):                      # len gives size \n",
    "    \n",
    "    if((fib_numbers[j] % 2) == 0):                     # && is a logical and\n",
    "\n",
    "    \n",
    "        sum = sum + fib_numbers[j]\n",
    "    \n",
    "    \n",
    "print(sum)\n",
    "\n"
   ]
  }
 ],
 "metadata": {
  "kernelspec": {
   "display_name": "Python 3",
   "language": "python",
   "name": "python3"
  },
  "language_info": {
   "codemirror_mode": {
    "name": "ipython",
    "version": 3
   },
   "file_extension": ".py",
   "mimetype": "text/x-python",
   "name": "python",
   "nbconvert_exporter": "python",
   "pygments_lexer": "ipython3",
   "version": "3.8.3"
  }
 },
 "nbformat": 4,
 "nbformat_minor": 4
}
