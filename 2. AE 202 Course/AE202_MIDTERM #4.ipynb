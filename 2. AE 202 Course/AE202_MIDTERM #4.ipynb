{
 "cells": [
  {
   "cell_type": "code",
   "execution_count": 4,
   "metadata": {
    "scrolled": true
   },
   "outputs": [
    {
     "name": "stdout",
     "output_type": "stream",
     "text": [
      "9.076743246072791\n",
      "0.04980934091902611\n",
      "\n",
      "123.80749336891392\n",
      "\n",
      "173.21058496819333\n",
      "2.3285746583204303\n",
      "\n",
      "\n",
      "231.02287716879846\n",
      "177769.71979547216\n",
      "-4656234.564549218\n",
      "-78516.25344947664\n",
      "-26.192506631086076\n"
     ]
    }
   ],
   "source": [
    "#Problem 4\n",
    "\n",
    "import pandas as pd\n",
    "import matplotlib.pyplot as plt\n",
    "import random\n",
    "import numpy as np\n",
    "import math as m\n",
    "\n",
    "h = 30000 #ft\n",
    "w0 = 19815 #lb gross weight\n",
    "b = 53.3 #ft\n",
    "c = 6 #ft\n",
    "e = 0.81\n",
    "cd0 = 0.02\n",
    "Tr = 2*4000 #lbf\n",
    "rho = 8.9068*(10**-4) #slugs/ft^3\n",
    "rhoSL = 0.002377 #slugs/ft^3\n",
    "sref = c*b\n",
    "ct = 0.55*(1/60)*(1/60) #1/hr to 1/s\n",
    "wf = 8000 #lb weight of fuel\n",
    "AR = (b**2)/sref\n",
    "Ta = (rho/rhoSL)*Tr\n",
    "\n",
    "#to find cl, know there is 2 eq 1 unknown therefore simplify and use quadratic formula\n",
    "\n",
    "cl1 = ((Tr*m.pi*e*AR)/(2*w0)) + (m.sqrt(((Tr*m.pi*e*AR)**2)-(4*w0*w0*cd0*m.pi*e*AR))/(2*w0))\n",
    "cl2 = ((Tr*m.pi*e*AR)/(2*w0)) - (m.sqrt(((Tr*m.pi*e*AR)**2)-(4*w0*w0*cd0*m.pi*e*AR))/(2*w0))\n",
    "\n",
    "print(cl1)\n",
    "print(cl2)\n",
    "\n",
    "#since cl2 results in a negative number, cl1 must be correct\n",
    "print(   )\n",
    "\n",
    "Vmax = m.sqrt((2*w0)/(rho*sref*cl1)) #substitute cl2 into vmax equation \n",
    "print(Vmax)\n",
    "\n",
    "#4b\n",
    "print(   )\n",
    "cD = cd0 + ((cl1**2)/(m.pi*e*AR))\n",
    "w1 = w0-wf\n",
    "\n",
    "R = (2*m.sqrt((2/(rho*sref))))*(1/ct)*((cl1**(1/2))/(cD))*(m.sqrt(w0)-m.sqrt(w1))\n",
    "E = (1/ct)*(cl1/cD)*np.log(w0/w1)\n",
    "print(R/5280) #convert ft to miles\n",
    "print(E/3600) #convert per s to per hr\n",
    "\n",
    "#4c\n",
    "print(    )\n",
    "Vnew = Vmax - 150\n",
    "CLnew = w0/(.5*rho*(Vnew**2)*sref)\n",
    "CDnew = cd0 + ((CLnew**2)/(m.pi*e*AR))\n",
    "TR = w0/(CLnew/CDnew)\n",
    "PR = TR*Vnew\n",
    "PA = Ta*Vnew\n",
    "RC = (PA-PR)/w0\n",
    "\n",
    "print(  )\n",
    "print(RC)\n",
    "print(TR)\n",
    "print(PR)\n",
    "print(PA)\n",
    "print(Vnew)"
   ]
  },
  {
   "cell_type": "code",
   "execution_count": null,
   "metadata": {},
   "outputs": [],
   "source": [
    "9.076743246072791\n",
    "0.04980934091902611\n",
    "\n",
    "123.80749336891392\n",
    "\n",
    "173.21058496819333\n",
    "2.3285746583204303\n",
    "\n",
    "\n",
    "231.02287716879846\n",
    "177769.71979547216\n",
    "-4656234.564549218\n",
    "-78516.25344947664\n",
    "-26.192506631086076"
   ]
  }
 ],
 "metadata": {
  "kernelspec": {
   "display_name": "Python 3",
   "language": "python",
   "name": "python3"
  },
  "language_info": {
   "codemirror_mode": {
    "name": "ipython",
    "version": 3
   },
   "file_extension": ".py",
   "mimetype": "text/x-python",
   "name": "python",
   "nbconvert_exporter": "python",
   "pygments_lexer": "ipython3",
   "version": "3.8.3"
  }
 },
 "nbformat": 4,
 "nbformat_minor": 4
}
