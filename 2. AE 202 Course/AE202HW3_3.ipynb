{
 "cells": [
  {
   "cell_type": "code",
   "execution_count": null,
   "metadata": {},
   "outputs": [],
   "source": [
    "#3a\n",
    "import pandas as pd\n",
    "import matplotlib.pyplot as plt\n",
    "import random\n",
    "import numpy as np\n",
    "import math as m\n",
    "\n",
    "h =30000 #ft\n",
    "v = 500  #ft/s\n",
    "w0 = 19815 #lb\n",
    "b = 53.3 #ft\n",
    "c = 6 #ft\n",
    "e = 0.81\n",
    "cd0 = 0.02\n",
    "Trmax = 2*3650 #lb\n",
    "rho = 8.9068e-4 #slug/ft^3 #take from table and conver kg/m^3 to slug/ft^3\n",
    "\n",
    "sref = c*b\n",
    "AR = (b**2)/sref\n",
    "\n",
    "def CD(cl):\n",
    "    return cd0+((cl**2)/(m.pi*e*AR))\n",
    "\n",
    "cl = np.linspace(0, 5, 100)\n",
    "plt.plot(CD(cl), cl)\n",
    "plt.ylabel(\"Coefficient of lift (Cl)\")\n",
    "plt.xlabel('Coefficient of drag (CD)')\n",
    "plt.title('Coefficient of lift (Cl) vs Coefficient of drag (CD)')\n",
    "plt.show()\n",
    "\n"
   ]
  },
  {
   "cell_type": "code",
   "execution_count": null,
   "metadata": {},
   "outputs": [],
   "source": [
    "#3B\n",
    "cl = w0/ (.5*rho*(v**2)*sref)\n",
    "\n",
    "print(CD(cl))"
   ]
  },
  {
   "cell_type": "code",
   "execution_count": null,
   "metadata": {},
   "outputs": [],
   "source": [
    "#3C\n",
    "Tr = .5*rho*(v**2)*sref*CD(cl)\n",
    "\n",
    "print(Tr)"
   ]
  },
  {
   "cell_type": "code",
   "execution_count": null,
   "metadata": {},
   "outputs": [],
   "source": [
    "#3D\n",
    "Pr = Tr*v\n",
    "Ta = (rho/0.002377)*Trmax\n",
    "Pa = Ta*v\n",
    "\n",
    "rc = (Pa-Pr)/w0\n",
    "print(rc)\n",
    "print(Tr)\n",
    "\n"
   ]
  },
  {
   "cell_type": "code",
   "execution_count": 6,
   "metadata": {},
   "outputs": [
    {
     "name": "stdout",
     "output_type": "stream",
     "text": [
      "599720.2991596896\n",
      "1364701.6613082443\n"
     ]
    }
   ],
   "source": [
    "print(Pr)\n",
    "print(Pa)"
   ]
  },
  {
   "cell_type": "code",
   "execution_count": null,
   "metadata": {},
   "outputs": [],
   "source": [
    "38.74434697341296"
   ]
  }
 ],
 "metadata": {
  "kernelspec": {
   "display_name": "Python 3",
   "language": "python",
   "name": "python3"
  },
  "language_info": {
   "codemirror_mode": {
    "name": "ipython",
    "version": 3
   },
   "file_extension": ".py",
   "mimetype": "text/x-python",
   "name": "python",
   "nbconvert_exporter": "python",
   "pygments_lexer": "ipython3",
   "version": "3.8.3"
  }
 },
 "nbformat": 4,
 "nbformat_minor": 4
}
