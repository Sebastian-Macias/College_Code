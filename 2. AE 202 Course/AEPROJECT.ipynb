{
 "cells": [
  {
   "cell_type": "code",
   "execution_count": 1,
   "metadata": {},
   "outputs": [],
   "source": [
    "#AE Project\n",
    "\n",
    "import pandas as pd\n",
    "import matplotlib.pyplot as plt\n",
    "import random\n",
    "import numpy as np\n",
    "import math as m\n",
    "import numpy.linalg as la\n",
    "import scipy.linalg as sla\n",
    "import csv\n",
    "\n",
    "#Boeing Insitu ScanEagle Numbers (ON EARTH)\n",
    "g = 9.81 #m/s^2\n",
    "w1 = (18+14)/2 #avg empty structure weight in kg\n",
    "w0 = 22 #kg (max takeoff weight)\n",
    "Vmax = 41.2 #m/s max horisontal speed\n",
    "Vcruise = (30 + 25)/2 #avg cruise speed in m/s\n",
    "b = 3.11 #m (wingspan)\n",
    "c = 3.11/13 #m (chord length using pixel counting)\n",
    "Ceiling = 5944 #m\n",
    "ServiceC = 4572 #m\n",
    "Sref = b*c\n",
    "\n",
    "#Boeing Insitu ScanEagle Numbers (ON TITAN)\n",
    "gt = 1.352 #m/s^2 (t = Titan)\n",
    "w1t = (w1)*gt #avg empty structure weight in kg\n",
    "w0t = (w0)*gt #max takeoff weight in kg\n",
    "\n",
    "##calculating angle of attack via cl/cd for steady level flight\n",
    "def clcd(rho,Pr):\n",
    "    Sref = b*c\n",
    "    cl = w0t/(.5*rho*Sref*Vcruise**2)\n",
    "    Tr = Pr/Vcruise\n",
    "    cd = cl/(w0t/Tr)\n",
    "    ratio = cl/cd #naca files use cl/cd vs alpha to determine angle of attack\n",
    "    return cl,cd,ratio\n",
    "\n",
    "\n",
    "##Takeoff\n",
    "#cd0,cl,e depend on wings\n",
    "#Tr depends on engine\n",
    "#muR depends on where it lands in regard to ice or rock\n",
    "def Takeoff_Landing(cd0,cl,e,muR,rho): \n",
    "    Sref = b*c\n",
    "    Tr = 1.2/Vcruise\n",
    "    H = (60-9)/(365/1.55) #m height of wing above ground w/o wheels (will change if airfoil found, done using pixel math)\n",
    "    phi = ((16*(H/b))**2)/(1+((16*(H/b))**2)) #ground effect m\n",
    "    AR = (b**2)/Sref\n",
    "    CD = cd0 + (phi*(cl**2)/(m.pi*e*AR))\n",
    "    Vav = 0.7*1.2*m.sqrt((2*w0t)/(rho*Sref*cl))\n",
    "    L = .5*rho*(Vav**2)*Sref*cl\n",
    "    D = .5*rho*(Vav**2)*Sref*CD\n",
    "    Slo = (1.44*w0t**2)/(gt*rho*Sref*cl*(Tr - (D+muR*(w0t-L)))) #takeoff\n",
    "    Sl = (1.69*w0t**2)/(gt*rho*Sref*cl*(D+muR*(w0t-L)))\n",
    "    return Slo,Sl\n",
    "\n",
    "def rc(n,cd0,W,cL,rho):\n",
    "    Sref = b*c\n",
    "    V = m.sqrt((2*w)/(rho*Sref*cL))\n",
    "    CD = cd0 + (phi*(cl**2)/(m.pi*e*AR))\n",
    "    L = .5*rho*(V**2)*Sref*cl\n",
    "    D = .5*rho*(V**2)*Sref*CD\n",
    "    Tr = W/(L/D)\n",
    "    AR = (b**2)/Sref\n",
    "    CD = cd0 + (phi*(cl**2)/(m.pi*e*AR))\n",
    "    Pr = Tr*V\n",
    "    Pa = n*P\n",
    "    rc = (Pa - Pr)/2\n",
    "    return rc\n"
   ]
  },
  {
   "cell_type": "code",
   "execution_count": null,
   "metadata": {},
   "outputs": [],
   "source": [
    "import math\n",
    "import numpy as np\n",
    "import pandas as pd\n",
    "import matplotlib.pyplot as plt\n",
    "import csv\n",
    "\n",
    "#read csv\n",
    "temp = []\n",
    "altitudes = []\n",
    "with open(\"TitanTempAlt.csv\",'r') as csvfile:\n",
    "    plots = csv.reader(csvfile, dialect='excel', delimiter=',')\n",
    "    for row in plots:\n",
    "        try:\n",
    "            altitudes.append(float(row[0]))\n",
    "            temp.append(float(row[1]))\n",
    "        except:\n",
    "            continue\n",
    "            \n",
    "\n",
    "#helper function that linearly interpolates a value at a given altitude between two altitudes\n",
    "def linear_interpolator(para1, para2, alt1, alt2, alt):\n",
    "    alt_ratio = (alt - alt1) / (alt2 - alt1)\n",
    "    return ((para2 - para1) * alt_ratio) + para1\n",
    "\n",
    "def atms_conditions(alt):\n",
    "    #get alt in km to work with csv data which is in km\n",
    "    alt = alt/1000\n",
    "    if alt > altitudes[-1] or alt <= 0:\n",
    "        print(\"sorry this altitude is not in range of our function\")\n",
    "        return\n",
    "    \n",
    "    P0 = 146700 #Pa\n",
    "    R  = 296.9  #J/kg * K\n",
    "    rho0 = P0 / (temp[0] * R)\n",
    "    g = 1.352 #m/s^2; just googled value for titan\n",
    "    #exponential relation for density\n",
    "    #print(alt)\n",
    "    R_titan = 2575 #km\n",
    "    P1 = P0 * math.exp(-alt/(R_titan))\n",
    "    #print(rho0)\n",
    "    iterator = 0 #describes state state of while loop (ie what altitude and temp to be at)\n",
    "    next_temp = temp[0]\n",
    "    #lists akin to vectors, allow for dynamic storage of values\n",
    "    while altitudes[iterator] < alt:\n",
    "        #get the temp and altitude of the next state of function\n",
    "        next_temp = temp[iterator + 1]\n",
    "        next_altitude = altitudes[iterator + 1]\n",
    "        iterator += 1\n",
    "    \n",
    "    T_ceil = temp[iterator]\n",
    "    T_floor = temp[iterator - 1]\n",
    "    alt_ceil = altitudes[iterator]\n",
    "    alt_floor = altitudes[iterator - 1]\n",
    "    T1 = linear_interpolator(T_floor, T_ceil, alt_floor, alt_ceil, alt)\n",
    "    #print(T_floor, T_ceil, T1)\n",
    "    \n",
    "    rho1 = P1 / (R * T1)\n",
    "    \n",
    "    return alt*1000, P1, T1, rho1\n",
    "\n",
    "print(atms_conditions(5000))\n",
    "print(atms_conditions(100000))"
   ]
  },
  {
   "cell_type": "code",
   "execution_count": 3,
   "metadata": {},
   "outputs": [
    {
     "name": "stdout",
     "output_type": "stream",
     "text": [
      "Reynolds number = 2090167.77037195\n",
      "cl,cd, cl/cd = (0.020046891987303646, 2.9410081647958788e-05, 681.6333333333334)\n",
      "oswald e = 0.0011237281453171006\n",
      "takeoff, landing = (-7538.588164274349, 8610.905843852044)\n"
     ]
    }
   ],
   "source": [
    "#calculating Reynolds number\n",
    "mu = 1.66*10**-5 #kg/m*s viscosity for Nitrogen gas\n",
    "R = (atms_conditions(5)[3]*Vcruise*c)/mu\n",
    "print(\"Reynolds number =\",R)\n",
    "print(\"cl,cd, cl/cd =\", clcd(atms_conditions(5)[3],(1.2)))\n",
    "\n",
    "def e(cd,cl):\n",
    "    cd0 = -0.0087272727 #cd at 0 angle of attack?\n",
    "    Sref = b*c\n",
    "    AR = (b**2)/Sref\n",
    "    e = (cl**2)/(m.pi*AR*(cd-cd0))\n",
    "    return e\n",
    "\n",
    "print(\"oswald e =\", e(clcd(atms_conditions(5)[3],(1.2))[1],clcd(atms_conditions(5)[3],(1.2))[0]))\n",
    "\n",
    "print(\"takeoff, landing =\", Takeoff_Landing(-0.0087272727,clcd(atms_conditions(5)[3],(1.2))[0],e(clcd(atms_conditions(5)[3],(1.2))[1],clcd(atms_conditions(5)[3],(1.2))[0]),((.75+.55)/2),atms_conditions(5)[3])) #generic rock muR\n"
   ]
  },
  {
   "cell_type": "code",
   "execution_count": 4,
   "metadata": {},
   "outputs": [
    {
     "name": "stdout",
     "output_type": "stream",
     "text": [
      "4.828312319999999\n",
      "1.2826281295800004\n",
      "59.62189330005131\n"
     ]
    }
   ],
   "source": [
    "num = 1.44*w0t**2\n",
    "denom = gt*4*(3.11/13)*3.11*1.2\n",
    "print(denom)\n",
    "coef = 0.09*(w0t-(.5*4*(28.3**2)*(3.11/13)*3.11*0.013))\n",
    "print(coef)\n",
    "T = (num/(denom*(10-m.sqrt(30))))+coef\n",
    "print(T)"
   ]
  },
  {
   "cell_type": "code",
   "execution_count": 5,
   "metadata": {},
   "outputs": [
    {
     "name": "stdout",
     "output_type": "stream",
     "text": [
      "Reynolds number = 2123689.4390487773\n"
     ]
    }
   ],
   "source": [
    "import pandas as pd\n",
    "import matplotlib.pyplot as plt\n",
    "import random\n",
    "import numpy as np\n",
    "import math as m\n",
    "import numpy.linalg as la\n",
    "import scipy.linalg as sla\n",
    "import csv\n",
    "\n",
    "def T_a(cl):\n",
    "    contraeff = (0.06+0.16)/2\n",
    "    vlo = 1.2*m.sqrt((2*w0t)/(atms_conditions(5000)[3]*Sref*cl))\n",
    "    T_a = (0.8*contraeff*1.2*(10**3))/(vlo)\n",
    "    return cl\n",
    "\n",
    "    \n",
    "mu = 1.66*10**-5 #kg/m*s viscosity for Nitrogen gas\n",
    "R = (atms_conditions(5000)[3]*25*c)/mu\n",
    "print(\"Reynolds number =\",R)"
   ]
  },
  {
   "cell_type": "code",
   "execution_count": null,
   "metadata": {},
   "outputs": [],
   "source": []
  },
  {
   "cell_type": "code",
   "execution_count": null,
   "metadata": {},
   "outputs": [],
   "source": []
  },
  {
   "cell_type": "code",
   "execution_count": null,
   "metadata": {},
   "outputs": [],
   "source": []
  }
 ],
 "metadata": {
  "kernelspec": {
   "display_name": "Python 3",
   "language": "python",
   "name": "python3"
  },
  "language_info": {
   "codemirror_mode": {
    "name": "ipython",
    "version": 3
   },
   "file_extension": ".py",
   "mimetype": "text/x-python",
   "name": "python",
   "nbconvert_exporter": "python",
   "pygments_lexer": "ipython3",
   "version": "3.8.3"
  }
 },
 "nbformat": 4,
 "nbformat_minor": 4
}
