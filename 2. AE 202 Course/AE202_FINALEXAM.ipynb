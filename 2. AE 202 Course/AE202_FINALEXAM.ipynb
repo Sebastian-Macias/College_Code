{
 "cells": [
  {
   "cell_type": "code",
   "execution_count": 2,
   "metadata": {},
   "outputs": [
    {
     "name": "stdout",
     "output_type": "stream",
     "text": [
      "\n",
      "angular vel vec= [-38280.22364  -22101.046132  35034.78044 ]\n",
      "nmag = 44202.16920081194\n",
      "Normal Vec = [ 22101.046132 -38280.22364       0.      ]\n",
      "rmag = 7731.514254245736\n",
      "vmag = 7.300259995370028\n",
      "eccentricity vec = [0.00139061 0.04181771 0.02789936]\n",
      "eccentricity mag = 0.050289456327316635\n",
      "\n",
      "a = 8001.338486786877\n",
      "\n",
      "angle of inclination (i) = 51.59954396480777\n",
      "OMEGA angle = 299.9999424225426\n",
      "argument of periapsis (w) = 134.93543434606022\n",
      "True anomaly at epoch (f) = 50.064601097426\n"
     ]
    }
   ],
   "source": [
    "import pandas as pd\n",
    "import matplotlib.pyplot as plt\n",
    "import random\n",
    "import numpy as np\n",
    "import math as m\n",
    "import numpy.linalg as la\n",
    "import scipy.linalg as sla\n",
    "import csv\n",
    "import matplotlib \n",
    "\n",
    "#Problem 3a\n",
    "muE = 3.986*10**5 #km^3/s^2\n",
    "rE = 6371.0 #km\n",
    "m = 2000 #kg\n",
    "\n",
    "rvec = np.array([-4213.528, 6460.93, -528.089]) #km\n",
    "vvec = np.array([-3.74, -2.58, -5.714]) #km/s\n",
    "\n",
    "#####r,v to COE#####\n",
    "print(      )\n",
    "\n",
    "hvec = np.cross(rvec,vvec) #cross product func\n",
    "print(\"angular vel vec=\", hvec)\n",
    "\n",
    "kvec = np.array([0,0,1])\n",
    "nvec = np.cross(kvec,hvec) #n cross k func\n",
    "nmag = np.linalg.norm(nvec)\n",
    "print(\"nmag =\", nmag)\n",
    "print(\"Normal Vec =\", nvec)\n",
    "\n",
    "vmag = np.linalg.norm(vvec) #magnitude of vvec\n",
    "rmag = np.linalg.norm(rvec) #magnitude of rvec\n",
    "\n",
    "print(\"rmag =\",rmag)\n",
    "print(\"vmag =\", vmag)\n",
    "\n",
    "evec = 1/muE * ((vmag**2 - muE/rmag)*rvec - (rvec@vvec)*vvec)\n",
    "emag = np.linalg.norm(evec)\n",
    "\n",
    "print(\"eccentricity vec =\", evec)\n",
    "print(\"eccentricity mag =\", emag)\n",
    "print(      )\n",
    "\n",
    "P = (np.linalg.norm(hvec)**2)/muE\n",
    "a = P/(1-emag**2)\n",
    "\n",
    "print(\"a =\",a)\n",
    "print(    )\n",
    "\n",
    "## take h,n,e vectors and find OMEGA, w, i\n",
    "h_k = np.linalg.norm(kvec@hvec)\n",
    "hmag = np.linalg.norm(hvec)\n",
    "i = np.arccos(h_k/hmag)\n",
    "print(\"angle of inclination (i) =\",i * 180/(np.pi))\n",
    "\n",
    "I = [1,0,0] #i direction\n",
    "\n",
    "if nvec[1]>0:\n",
    "    OMEGA = np.arccos(nvec[0]/nmag) \n",
    "else:\n",
    "    OMEGA = 2*np.pi - np.arccos(nvec[0]/nmag)\n",
    "\n",
    "print(\"OMEGA angle =\", OMEGA * 180/np.pi)\n",
    "\n",
    "ndot = np.dot(nvec,evec)\n",
    "emag = np.linalg.norm(evec)\n",
    "\n",
    "if evec[2]>0:\n",
    "    w = np.arccos(ndot/(nmag*emag))\n",
    "else: \n",
    "    w = 2*np.pi - np.arccos(ndot/(nmag*emag))\n",
    "print(\"argument of periapsis (w) =\", w * 180/np.pi)\n",
    "\n",
    "e_f = evec@rvec\n",
    "if np.dot(rvec,vvec) > 0:\n",
    "    f = np.arccos(e_f/(emag*np.linalg.norm(rvec)))\n",
    "else:\n",
    "    f = 2*m.pi - np.arccos(e_f/(emag*np.linalg.norm(rvec)))\n",
    "print(\"True anomaly at epoch (f) =\",f * 180/np.pi)\n"
   ]
  },
  {
   "cell_type": "code",
   "execution_count": 13,
   "metadata": {},
   "outputs": [
    {
     "name": "stdout",
     "output_type": "stream",
     "text": [
      "P = 7981.102866372841\n",
      "rp = 7598.955524395531\n",
      "a = 8001.338486786877\n",
      "Time of flight = 3.443896477353101\n",
      "Time of flight 2 = 0.9892878820899356\n",
      "total time of flight = 4.433184359443037\n"
     ]
    }
   ],
   "source": [
    "#3b\n",
    "deltaV1 = 1.88 #km/s\n",
    "deltaV2 = 1.362 #km/s\n",
    "\n",
    "P = (np.linalg.norm(hvec)**2)/muE\n",
    "rp = P/(1+emag) \n",
    "\n",
    "print(\"P =\", P)\n",
    "print(\"rp =\", rp)\n",
    "print(\"a =\", a)\n",
    "\n",
    "\n",
    "#time of flight\n",
    "\n",
    "r2 = 2.915839822786373*10**4\n",
    "\n",
    "Tof = np.pi*np.sqrt((((rp+r2)/2)**3)/muE)\n",
    "print(\"Time of flight =\", Tof/3600)\n",
    "\n",
    "tof = np.pi*np.sqrt(((a)**3)/muE)\n",
    "print(\"Time of flight 2 =\", tof/3600)\n",
    "\n",
    "TOFTOT = Tof+tof\n",
    "\n",
    "print(\"total time of flight =\", TOFTOT/3600)"
   ]
  },
  {
   "cell_type": "code",
   "execution_count": 24,
   "metadata": {},
   "outputs": [
    {
     "name": "stdout",
     "output_type": "stream",
     "text": [
      "329.8433256852149\n",
      "459.9946490813231\n",
      "0.3827473684210526\n",
      "727.22\n"
     ]
    }
   ],
   "source": [
    "#3c\n",
    "deltaV1 = 1.88*1000 #km/s to m/s\n",
    "deltaV2 = 1.362 *1000 #km/s to m/s\n",
    "\n",
    "g = 9.81\n",
    "m0 = 2000\n",
    "mf1 = m0 - 881.33\n",
    "\n",
    "ISP1 = deltaV1/(g*np.log(m0/mf1))\n",
    "print(ISP1)\n",
    "\n",
    "mf2 = mf1 - 291.45\n",
    "ISP2 = deltaV2/(g*np.log(mf1/mf2))\n",
    "print(ISP2)\n",
    "\n",
    "PI = 0.05\n",
    "mstar = PI*m0\n",
    "\n",
    "ms = m0-881.33-291.45-mstar\n",
    "E = ms/(ms+881.33+291.45)\n",
    "print(E)\n",
    "print(ms)"
   ]
  },
  {
   "cell_type": "code",
   "execution_count": 4,
   "metadata": {},
   "outputs": [
    {
     "name": "stdout",
     "output_type": "stream",
     "text": [
      "[0.  0.  0.4]\n",
      "[0.  0.  0.1]\n",
      "[0.  0.  0.1]\n",
      "[0.  0.  0.6]\n",
      "0.6\n"
     ]
    }
   ],
   "source": [
    "#3d\n",
    "I1 = 140\n",
    "I2 = 130\n",
    "I3 = 20\n",
    "w1 = 0.2\n",
    "w2 = 0.1\n",
    "w3 = 0.1\n",
    "\n",
    "w1vec = np.array([0,0,w1])\n",
    "w2vec = np.array([0,0,w2])\n",
    "w3vec = np.array([0,0,w3])\n",
    "\n",
    "I = np.array([[I1,0,0],[0,I2,0],[0,0,I3]])\n",
    "\n",
    "\n",
    "t1 = np.dot((0.5*w1vec),(I*w1vec))\n",
    "t2 = np.dot((0.5*w2vec),(I*w2vec))\n",
    "t3 = np.dot((0.5*w3vec),(I*w3vec))\n",
    "\n",
    "print(t1)\n",
    "print(t2)\n",
    "print(t3)\n",
    "t = t1+t2+t3\n",
    "print(t)\n",
    "print(np.linalg.norm(t))\n"
   ]
  },
  {
   "cell_type": "code",
   "execution_count": 28,
   "metadata": {},
   "outputs": [
    {
     "name": "stdout",
     "output_type": "stream",
     "text": [
      "neutral point =  0.6993827160493828\n",
      "distance of cog to neutral point = 1.1111111111111116  ft\n",
      "1.9181988742964353\n",
      "0.0324378368979308\n",
      "0.4771604938271605\n"
     ]
    },
    {
     "data": {
      "image/png": "[encoded data removed]",
      "text/plain": [
       "<Figure size 432x288 with 1 Axes>"
      ]
     },
     "metadata": {
      "needs_background": "light"
     },
     "output_type": "display_data"
    }
   ],
   "source": [
    "#Problem 4\n",
    "\n",
    "import pandas as pd\n",
    "import matplotlib.pyplot as plt\n",
    "import random\n",
    "import numpy as np\n",
    "import math as m\n",
    "import numpy.linalg as la\n",
    "import scipy.linalg as sla\n",
    "import csv\n",
    "import matplotlib\n",
    "\n",
    "cm0 = 0.08\n",
    "Sref = 53.3\n",
    "St = 14.2\n",
    "c = 5\n",
    "lt = 36\n",
    "it = 0\n",
    "E0 = 1.8\n",
    "dEda = 0.35\n",
    "a = 0.09\n",
    "Cmacwb = -0.032\n",
    "alpha = 4\n",
    "hacwb = 0.25\n",
    "\n",
    "\n",
    "Vh = lt*St/(Sref*c)\n",
    "at = (cm0 - Cmacwb)/(Vh*(it + E0))\n",
    "h = (-Cmacwb - Vh*at*(it + E0))/(a*alpha) + Vh*(at/a)*(1 - dEda) + hacwb\n",
    "hn = hacwb + Vh*(at/a)*(1 - dEda)\n",
    "\n",
    "print(\"neutral point = \", hn)\n",
    "print(\"distance of cog to neutral point =\", c*(hn - h), \" ft\")\n",
    "\n",
    "def cmcg(alpha):\n",
    "    cmcg = Cmacwb + a*alpha*(h - hacwb - Vh*(at/a)*(1 - dEda)) + Vh*at*(it + E0)\n",
    "    return cmcg\n",
    "\n",
    "abs_alpha = np.linspace(0, 10, 50)\n",
    "coefmoment = []\n",
    "for i in abs_alpha:\n",
    "    coefmoment.append(cmcg(i))\n",
    "\n",
    "plt.plot(abs_alphas, coefmoment)\n",
    "plt.title(\"Absolute Angle of Attack vs Moment Coefficient about the Center of Gravity\")\n",
    "plt.xlabel(\"Absolute Angle of Attack [deg]\")\n",
    "plt.ylabel(\"Moment Coefficient about C.G\")\n",
    "print(Vh)\n",
    "print(at)\n",
    "print(h)"
   ]
  },
  {
   "cell_type": "code",
   "execution_count": 1,
   "metadata": {},
   "outputs": [
    {
     "data": {
      "text/plain": [
       "2"
      ]
     },
     "execution_count": 1,
     "metadata": {},
     "output_type": "execute_result"
    }
   ],
   "source": []
  },
  {
   "cell_type": "code",
   "execution_count": null,
   "metadata": {},
   "outputs": [],
   "source": []
  }
 ],
 "metadata": {
  "kernelspec": {
   "display_name": "Python 3",
   "language": "python",
   "name": "python3"
  },
  "language_info": {
   "codemirror_mode": {
    "name": "ipython",
    "version": 3
   },
   "file_extension": ".py",
   "mimetype": "text/x-python",
   "name": "python",
   "nbconvert_exporter": "python",
   "pygments_lexer": "ipython3",
   "version": "3.8.3"
  }
 },
 "nbformat": 4,
 "nbformat_minor": 4
}
