{
 "cells": [
  {
   "cell_type": "code",
   "execution_count": 1,
   "metadata": {},
   "outputs": [
    {
     "name": "stdout",
     "output_type": "stream",
     "text": [
      "M1 = 0.4802753644443392\n",
      "M2 = 3.046287488214674\n",
      "\n",
      "E1 = 0.5017182242970878\n",
      "E2 = 3.0503499900944004\n",
      "\n",
      "time required= 2.395492994999055\n",
      "\n"
     ]
    }
   ],
   "source": [
    "#Problem 3\n",
    "import pandas as pd\n",
    "import matplotlib.pyplot as plt\n",
    "import random\n",
    "import numpy as np\n",
    "import math as m\n",
    "import numpy.linalg as la\n",
    "import scipy.linalg as sla\n",
    "import matplotlib.pyplot as plt\n",
    "\n",
    "#3a\n",
    "muM = 42828.372 #km^3/s^2\n",
    "ra = 8200 #km\n",
    "rp = 7500 #km\n",
    "f1 = 30 * m.pi/180 #deg to rad\n",
    "f2 = 185 * m.pi/180 #deg to rad\n",
    "\n",
    "if 0<=f1<=m.pi:\n",
    "    f1 = f1\n",
    "else:\n",
    "    f1 = 2*m.pi - f1\n",
    "\n",
    "if 0<=f2<=m.pi:\n",
    "    f2 = f2\n",
    "else:\n",
    "    f2 = 2*m.pi - f2\n",
    "\n",
    "e = (ra-rp)/(ra+rp)\n",
    "P = rp*(1+e)\n",
    "a = rp/(1-e)\n",
    "n = m.sqrt(muM/(a**3)) #mean motion\n",
    "\n",
    "E1 = 2*m.atan(m.sqrt((1-e)/(1+e))*m.tan(f1/2))\n",
    "E2 = 2*m.atan(m.sqrt((1-e)/(1+e))*m.tan(f2/2))\n",
    "\n",
    "M1 = E1 - e*m.sin(E1)\n",
    "M2 = E2 - e*m.sin(E2)\n",
    "\n",
    "print(\"M1 =\", M1)\n",
    "print(\"M2 =\", M2)\n",
    "print(    )\n",
    "print(\"E1 =\", E1)\n",
    "print(\"E2 =\", E2)\n",
    "\n",
    "deltat = (M2 - M1)/n\n",
    "\n",
    "print(  )\n",
    "print(\"time required=\", deltat/3600)\n",
    "print(  )\n"
   ]
  },
  {
   "cell_type": "code",
   "execution_count": 2,
   "metadata": {},
   "outputs": [
    {
     "name": "stdout",
     "output_type": "stream",
     "text": [
      "E =  1.071183313467108\n",
      "1.111141529216575\n",
      "true anomaly (f) = 65.97687354055914\n"
     ]
    }
   ],
   "source": [
    "##\n",
    "#3b\n",
    "t0 = 0\n",
    "t = 3600 #hrs to s\n",
    "M = n*(t-t0)\n",
    "\n",
    "def f(E):\n",
    "    return E - e*m.sin(E) - M\n",
    "def fprime(E):\n",
    "    return 1 - e*m.cos(E)\n",
    "\n",
    "E = M \n",
    "print(\"E = \", E)\n",
    "\n",
    "#Newtons Method\n",
    "for val in range(1,100):\n",
    "    nextE = E - f(E)/fprime(E)\n",
    "    E = nextE\n",
    "\n",
    "print(nextE)\n",
    "F = 2*m.atan((m.tan(nextE/2))/(m.sqrt((1-e)/(1+e))))\n",
    "print(\"true anomaly (f) =\", F * 180/m.pi)"
   ]
  },
  {
   "cell_type": "code",
   "execution_count": 3,
   "metadata": {},
   "outputs": [],
   "source": [
    "M1 = 0.4802753644443392\n",
    "M2 = 3.046287488214674"
   ]
  },
  {
   "cell_type": "code",
   "execution_count": 4,
   "metadata": {},
   "outputs": [
    {
     "data": {
      "text/plain": [
       "4"
      ]
     },
     "execution_count": 4,
     "metadata": {},
     "output_type": "execute_result"
    }
   ],
   "source": [
    "2.395492994999055"
   ]
  },
  {
   "cell_type": "code",
   "execution_count": 5,
   "metadata": {},
   "outputs": [
    {
     "data": {
      "text/plain": [
       "1.071183313467108"
      ]
     },
     "execution_count": 5,
     "metadata": {},
     "output_type": "execute_result"
    }
   ],
   "source": [
    "65.97687354055914"
   ]
  }
 ],
 "metadata": {
  "kernelspec": {
   "display_name": "Python 3",
   "language": "python",
   "name": "python3"
  },
  "language_info": {
   "codemirror_mode": {
    "name": "ipython",
    "version": 3
   },
   "file_extension": ".py",
   "mimetype": "text/x-python",
   "name": "python",
   "nbconvert_exporter": "python",
   "pygments_lexer": "ipython3",
   "version": "3.8.3"
  }
 },
 "nbformat": 4,
 "nbformat_minor": 4
}
