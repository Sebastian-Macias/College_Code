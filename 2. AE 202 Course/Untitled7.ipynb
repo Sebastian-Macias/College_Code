{
 "cells": [
  {
   "cell_type": "code",
   "execution_count": 4,
   "metadata": {},
   "outputs": [
    {
     "name": "stdout",
     "output_type": "stream",
     "text": [
      "\n",
      "angular vel vec= [2.95148531e+04 2.32803300e+00 5.43600263e+04]\n",
      "nmag = 29514.853216813735\n",
      "Normal Vec = [-2.32803300e+00  2.95148531e+04  0.00000000e+00]\n",
      "rmag = 8506.434124373738\n",
      "vmag = 7.338326648494192\n",
      "eccentricity vec = [-0.12417427  0.14138938  0.06741454]\n",
      "eccentricity mag = 0.19988728155844462\n",
      "\n",
      "a = 9998.430391172853\n",
      "\n",
      "angle of inclination (i) = 28.499810418321463\n",
      "OMEGA angle = 90.004519299643\n",
      "argument of periapsis (w) = 44.97667739388537\n",
      "True anomaly at epoch (f) = 50.01935377572086\n"
     ]
    }
   ],
   "source": [
    "import pandas as pd\n",
    "import matplotlib.pyplot as plt\n",
    "import random\n",
    "import numpy as np\n",
    "import math as m\n",
    "import numpy.linalg as la\n",
    "import scipy.linalg as sla\n",
    "import csv\n",
    "import matplotlib \n",
    "\n",
    "#Problem 3a\n",
    "muE = 3.986*10**5 #km^3/s^2\n",
    "rE = 6371.0 #km\n",
    "m = 2000 #kg\n",
    "\n",
    "rvec = np.array([-7447.153, -741.385, 4043.474]) #km\n",
    "vvec = np.array([-0.307, -7.33, 0.167]) #km/s\n",
    "\n",
    "#####r,v to COE#####\n",
    "print(      )\n",
    "\n",
    "hvec = np.cross(rvec,vvec) #cross product func\n",
    "print(\"angular vel vec=\", hvec)\n",
    "\n",
    "kvec = np.array([0,0,1])\n",
    "nvec = np.cross(kvec,hvec) #n cross k func\n",
    "nmag = np.linalg.norm(nvec)\n",
    "print(\"nmag =\", nmag)\n",
    "print(\"Normal Vec =\", nvec)\n",
    "\n",
    "vmag = np.linalg.norm(vvec) #magnitude of vvec\n",
    "rmag = np.linalg.norm(rvec) #magnitude of rvec\n",
    "\n",
    "print(\"rmag =\",rmag)\n",
    "print(\"vmag =\", vmag)\n",
    "\n",
    "evec = 1/muE * ((vmag**2 - muE/rmag)*rvec - (rvec@vvec)*vvec)\n",
    "emag = np.linalg.norm(evec)\n",
    "\n",
    "print(\"eccentricity vec =\", evec)\n",
    "print(\"eccentricity mag =\", emag)\n",
    "print(      )\n",
    "\n",
    "P = (np.linalg.norm(hvec)**2)/muE\n",
    "a = P/(1-emag**2)\n",
    "\n",
    "print(\"a =\",a)\n",
    "print(    )\n",
    "\n",
    "## take h,n,e vectors and find OMEGA, w, i\n",
    "h_k = np.linalg.norm(kvec@hvec)\n",
    "hmag = np.linalg.norm(hvec)\n",
    "i = np.arccos(h_k/hmag)\n",
    "print(\"angle of inclination (i) =\",i * 180/(np.pi))\n",
    "\n",
    "I = [1,0,0] #i direction\n",
    "\n",
    "if nvec[1]>0:\n",
    "    OMEGA = np.arccos(nvec[0]/nmag) \n",
    "else:\n",
    "    OMEGA = 2*np.pi - np.arccos(nvec[0]/nmag)\n",
    "\n",
    "print(\"OMEGA angle =\", OMEGA * 180/np.pi)\n",
    "\n",
    "ndot = np.dot(nvec,evec)\n",
    "emag = np.linalg.norm(evec)\n",
    "\n",
    "if evec[2]>0:\n",
    "    w = np.arccos(ndot/(nmag*emag))\n",
    "else: \n",
    "    w = 2*np.pi - np.arccos(ndot/(nmag*emag))\n",
    "print(\"argument of periapsis (w) =\", w * 180/np.pi)\n",
    "\n",
    "e_f = evec@rvec\n",
    "if np.dot(rvec,vvec) > 0:\n",
    "    f = np.arccos(e_f/(emag*np.linalg.norm(rvec)))\n",
    "else:\n",
    "    f = 2*m.pi - np.arccos(e_f/(emag*np.linalg.norm(rvec)))\n",
    "print(\"True anomaly at epoch (f) =\",f * 180/np.pi)\n"
   ]
  },
  {
   "cell_type": "code",
   "execution_count": 5,
   "metadata": {},
   "outputs": [
    {
     "name": "stdout",
     "output_type": "stream",
     "text": [
      "7999.871320429975\n"
     ]
    }
   ],
   "source": [
    "#3b\n",
    "#a = 10000\n",
    "#e = 0.2\n",
    "\n",
    "v2 = 1.3382\n",
    "v1 = 1.41955\n",
    "muE = 3.986*10**5\n",
    "\n",
    "\n",
    "p = a*(1-emag**2)\n",
    "rp = p/(1+emag)\n",
    "print(rp)"
   ]
  }
 ],
 "metadata": {
  "kernelspec": {
   "display_name": "Python 3",
   "language": "python",
   "name": "python3"
  },
  "language_info": {
   "codemirror_mode": {
    "name": "ipython",
    "version": 3
   },
   "file_extension": ".py",
   "mimetype": "text/x-python",
   "name": "python",
   "nbconvert_exporter": "python",
   "pygments_lexer": "ipython3",
   "version": "3.8.3"
  }
 },
 "nbformat": 4,
 "nbformat_minor": 4
}
