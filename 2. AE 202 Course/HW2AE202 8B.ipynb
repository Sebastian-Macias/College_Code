{
 "cells": [
  {
   "cell_type": "code",
   "execution_count": 11,
   "metadata": {},
   "outputs": [
    {
     "data": {
      "text/plain": [
       "array([239.7868545])"
      ]
     },
     "execution_count": 11,
     "metadata": {},
     "output_type": "execute_result"
    }
   ],
   "source": [
    "#Problem 8b\n",
    "\n",
    "import pandas as pd\n",
    "import matplotlib.pyplot as plt\n",
    "import random\n",
    "import numpy as np\n",
    "import math as m\n",
    "\n",
    "cp = 1003 #kg/kj*K given\n",
    "gamma = 1.4 #given\n",
    "p1 = 12.77*6894.76 #convert psi to pa\n",
    "p2 = 94600 #kPa to Pa\n",
    "t1 = (-69.68-32)*(5/9) + 273.15 #F to K\n",
    "a1 = 1.3 #m\n",
    "a2 = .7 #m\n",
    "R = 287 #j/kg*k\n",
    "rho1 = p1/(R*t1)\n",
    "v1 = m.sqrt((2*(p2-p1))/rho1)\n",
    "\n",
    "def Vair(v2):\n",
    "    return (cp*(t1*((a1*v1)/(a2*v2))**(gamma-1))) + (.5*v2**2) - (.5*v1**2) - (cp*t1)\n",
    "\n",
    "from scipy.optimize import fsolve\n",
    "\n",
    "\n",
    "fsolve(Vair,250) #solve for V2\n"
   ]
  },
  {
   "cell_type": "code",
   "execution_count": null,
   "metadata": {},
   "outputs": [],
   "source": []
  }
 ],
 "metadata": {
  "kernelspec": {
   "display_name": "Python 3",
   "language": "python",
   "name": "python3"
  },
  "language_info": {
   "codemirror_mode": {
    "name": "ipython",
    "version": 3
   },
   "file_extension": ".py",
   "mimetype": "text/x-python",
   "name": "python",
   "nbconvert_exporter": "python",
   "pygments_lexer": "ipython3",
   "version": "3.8.3"
  }
 },
 "nbformat": 4,
 "nbformat_minor": 4
}
