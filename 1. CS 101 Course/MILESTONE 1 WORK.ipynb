{
 "cells": [
  {
   "cell_type": "code",
   "execution_count": 28,
   "metadata": {},
   "outputs": [
    {
     "name": "stdout",
     "output_type": "stream",
     "text": [
      "3.5\n"
     ]
    }
   ],
   "source": [
    "def count_dom_phenotype(genotypes): #define func\n",
    "    genotypes = str(genotypes).replace(\",\", \"\") #since example shows genotypes in form AA-Aa must eliminate \"-\"\n",
    "    genotypes = genotypes.replace(\" \", \"\")\n",
    "    ucounter = 0 #initialize uppercount\n",
    "    lcounter = 0 #initialize lowercount\n",
    "    for i in genotypes:\n",
    "        ucounter = genotypes.count(\"1\")\n",
    "        lcounter = genotypes.count(\"0\")\n",
    "        length = (ucounter+lcounter)\n",
    "#     for i in genotypes:\n",
    "#         if i == 1: #check if i in genotype is uppercase\n",
    "#             #ucounter += 1 #count if true\n",
    "#             ucounter = genotypes.count(\"1\")\n",
    "#         else:\n",
    "#             #lcounter += 1 #if i is lowercase, count increase\n",
    "#             lcounter = genotypes.count(\"0\")\n",
    "    return ucounter + lcounter/length #want to make lowercount dependent on len(genotype)\n",
    "\n",
    "\n",
    "#print(count_dom_phenotype((\"AA-aa\"))) # GOAL: #AAaa 2+(2/len(str)) = 2.5\n",
    "print(count_dom_phenotype(([1, 0, 0, 1, 0, 1])))"
   ]
  },
  {
   "cell_type": "code",
   "execution_count": 5,
   "metadata": {},
   "outputs": [
    {
     "name": "stdout",
     "output_type": "stream",
     "text": [
      "12\n"
     ]
    }
   ],
   "source": [
    "def source_rna(protein):\n",
    "    genetic_code = {\n",
    "        'UUU': 'F', 'UUC': 'F', 'UUA': 'L', 'UUG': 'L',        'CUU': 'L', 'CUC': 'L', 'CUA': 'L', 'CUG': 'L',\n",
    "        'AUU': 'I', 'AUC': 'I', 'AUA': 'I', 'AUG': 'M',        'GUU': 'V', 'GUC': 'V', 'GUA': 'V', 'GUG': 'V',\n",
    "\n",
    "        'UCU': 'S', 'UCC': 'S', 'UCA': 'S', 'UCG': 'S',        'CCU': 'P', 'CCC': 'P', 'CCA': 'P', 'CCG': 'P',\n",
    "        'ACU': 'T', 'ACC': 'T', 'ACA': 'T', 'ACG': 'T',        'GCU': 'A', 'GCC': 'A', 'GCA': 'A', 'GCG': 'A',\n",
    "\n",
    "        'UAU': 'Y', 'UAC': 'Y', 'UAA': '*', 'UAG': '*',        'CAU': 'H', 'CAC': 'H', 'CAA': 'Q', 'CAG': 'Q',\n",
    "        'AAU': 'N', 'AAC': 'N', 'AAA': 'K', 'AAG': 'K',        'GAU': 'D', 'GAC': 'D', 'GAA': 'E', 'GAG': 'E',\n",
    "\n",
    "        'UGU': 'C', 'UGC': 'C', 'UGA': '*', 'UGG': 'W',        'CGU': 'R', 'CGC': 'R', 'CGA': 'R', 'CGG': 'R',\n",
    "        'AGU': 'S', 'AGC': 'S', 'AGA': 'R', 'AGG': 'R',        'GGU': 'G', 'GGC': 'G', 'GGA': 'G', 'GGG': 'G',\n",
    "    } #take genetic_code from labs\n",
    "\n",
    "    val_list = list(genetic_code.values()) #want to create a list with the genetic_code and takes the values post :\n",
    "    seq = 1 #want to initialize at 1\n",
    "    for letter in protein: #look for letter in protein\n",
    "        count = val_list.count(letter) #count letter in protein\n",
    "        seq = seq*count #sequence*count multiplies number of occurances of letter with eachother\n",
    "    return seq*3 #multiplies by protein length\n",
    "\n",
    "print(source_rna('MA'))\n",
    "\n",
    "#The logic of the program\n",
    "#protein is 'MA'\n",
    "#M  = 1, A = 4 == 4*1*3 = 12"
   ]
  },
  {
   "cell_type": "code",
   "execution_count": 29,
   "metadata": {},
   "outputs": [
    {
     "name": "stdout",
     "output_type": "stream",
     "text": [
      "MVYIADKQHVASREAYGHMFKVCA\n"
     ]
    }
   ],
   "source": [
    "def rna2codon(triplet): #takes the triplet components and finds the proteins \n",
    "    genetic_code = {\n",
    "        'UUU': 'F', 'UUC': 'F', 'UUA': 'L', 'UUG': 'L',        'CUU': 'L', 'CUC': 'L', 'CUA': 'L', 'CUG': 'L',\n",
    "        'AUU': 'I', 'AUC': 'I', 'AUA': 'I', 'AUG': 'M',        'GUU': 'V', 'GUC': 'V', 'GUA': 'V', 'GUG': 'V',\n",
    "\n",
    "        'UCU': 'S', 'UCC': 'S', 'UCA': 'S', 'UCG': 'S',        'CCU': 'P', 'CCC': 'P', 'CCA': 'P', 'CCG': 'P',\n",
    "        'ACU': 'T', 'ACC': 'T', 'ACA': 'T', 'ACG': 'T',        'GCU': 'A', 'GCC': 'A', 'GCA': 'A', 'GCG': 'A',\n",
    "\n",
    "        'UAU': 'Y', 'UAC': 'Y', 'UAA': '*', 'UAG': '*',        'CAU': 'H', 'CAC': 'H', 'CAA': 'Q', 'CAG': 'Q',\n",
    "        'AAU': 'N', 'AAC': 'N', 'AAA': 'K', 'AAG': 'K',        'GAU': 'D', 'GAC': 'D', 'GAA': 'E', 'GAG': 'E',\n",
    "\n",
    "        'UGU': 'C', 'UGC': 'C', 'UGA': '*', 'UGG': 'W',        'CGU': 'R', 'CGC': 'R', 'CGA': 'R', 'CGG': 'R',\n",
    "        'AGU': 'S', 'AGC': 'S', 'AGA': 'R', 'AGG': 'R',        'GGU': 'G', 'GGC': 'G', 'GGA': 'G', 'GGG': 'G',\n",
    "    }\n",
    "    allowed_codons = set('ACGU')\n",
    "    \n",
    "    protein = \"\"\n",
    "    #cound the vairables and return the protein if length fits 3\n",
    "    Var_count = 0\n",
    "    Var_count = Var_count + triplet.count('A') \n",
    "    Var_count = Var_count + triplet.count('C')\n",
    "    Var_count = Var_count + triplet.count('G')\n",
    "    Var_count = Var_count + triplet.count('U')\n",
    "    if Var_count != 3:\n",
    "        return \"Invalid\"\n",
    "    else:\n",
    "        protein = genetic_code[triplet]\n",
    "        return protein\n",
    "\n",
    "def rna2codons(triplets): #takes triplet form of RNA and runs it through rna2codon to find the proteins\n",
    "    proteins = ''\n",
    "    for i in range( 0,int( len(triplets) / 3 ) ):\n",
    "        proteins = proteins + rna2codon(triplets[ 3*i:3*i+3 ])\n",
    "    return proteins\n",
    "\n",
    "\n",
    "def dna2rna(dna): #converts DNA to RNA \n",
    "    rna = ''\n",
    "    for symbol in dna:\n",
    "        if symbol == 'T':\n",
    "            rna = rna + 'U'\n",
    "        elif symbol == 'A':\n",
    "            rna = rna + 'A'\n",
    "        elif symbol == 'C':\n",
    "            rna = rna + 'C'\n",
    "        else:\n",
    "            rna = rna + 'G'\n",
    "    return rna\n",
    "\n",
    "def splice_rna(dna,intron_list):\n",
    "    #rna = dna2rna(dna)  # Convert DNA to RNA\n",
    "    intronstr0 = ''.join(intron_list[0]) #take the introns in list and separate (want to make into str)\n",
    "    intronstr1 = ''.join(intron_list[1])\n",
    "    for i in dna:\n",
    "        if intronstr0 in dna: #check if intron string in DNA\n",
    "            dna = dna.replace(intronstr0, \"\") #replace \n",
    "        if intronstr1 in dna: #check if intron 2 string in DNA\n",
    "            dna = dna.replace(intronstr1, \"\") #replace\n",
    "    rna = dna2rna(dna) # Convert DNA to RNA\n",
    "    rna = rna2codons(rna).replace(\"*\",\"\")\n",
    "    return rna\n",
    "\n",
    "print(splice_rna('ATGGTCTACATAGCTGACAAACAGCACGTAGCAATCGGTCGAATCTCGAGAGGCATATGGTCACATGATCGGTCGAGCGTGTTTCAAAGTTTGCGCCTAG',[\"ATCGGTCGAA\", \"ATCGGTCGAGCGTGT\"]))\n",
    "#result should be MVYIADKQHVASREAYGHMFKVCA "
   ]
  }
 ],
 "metadata": {
  "kernelspec": {
   "display_name": "Python 3",
   "language": "python",
   "name": "python3"
  },
  "language_info": {
   "codemirror_mode": {
    "name": "ipython",
    "version": 3
   },
   "file_extension": ".py",
   "mimetype": "text/x-python",
   "name": "python",
   "nbconvert_exporter": "python",
   "pygments_lexer": "ipython3",
   "version": "3.8.3"
  }
 },
 "nbformat": 4,
 "nbformat_minor": 4
}
